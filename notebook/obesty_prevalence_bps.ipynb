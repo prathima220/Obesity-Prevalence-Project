{
 "cells": [
  {
   "cell_type": "code",
   "execution_count": null,
   "id": "88e3d99b-d66a-458e-8222-21d7fdb67d83",
   "metadata": {},
   "outputs": [],
   "source": [
    "import pandas as pd\n",
    "import numpy as np\n",
    "import matplotlib.pyplot as plt\n",
    "import seaborn as sns\n",
    "import plotly.express as px\n",
    "from IPython.display import HTML"
   ]
  },
  {
   "cell_type": "markdown",
   "id": "0a2119d6-6eca-44df-9155-a29d411585ef",
   "metadata": {},
   "source": [
    "##  Obesity and Gdp per capita dataset For All countries"
   ]
  },
  {
   "cell_type": "code",
   "execution_count": null,
   "id": "64dcf2cc-a7c7-4458-ba79-e7fb0d5ad38e",
   "metadata": {},
   "outputs": [],
   "source": [
    "obesity_gdp = pd.read_csv('../data/obesity_gdp.csv')\n",
    "obesity_gdp"
   ]
  },
  {
   "cell_type": "code",
   "execution_count": null,
   "id": "3d719fbb-2825-4aba-8a0b-7016c9cc6d0c",
   "metadata": {},
   "outputs": [],
   "source": [
    "obesity_gdp = obesity_gdp.rename(columns={'Entity' : 'Country'})\n"
   ]
  },
  {
   "cell_type": "code",
   "execution_count": null,
   "id": "14a8457a-8d55-45d5-b23e-832c67cf4047",
   "metadata": {},
   "outputs": [],
   "source": [
    "obesity_gdp"
   ]
  },
  {
   "cell_type": "code",
   "execution_count": null,
   "id": "173c09c3-662a-4e88-b645-e07e54659b6b",
   "metadata": {},
   "outputs": [],
   "source": [
    "obesity_gdp.columns"
   ]
  },
  {
   "cell_type": "code",
   "execution_count": null,
   "id": "66bff645-a6b5-4f38-9ed8-76d5ba5ffd53",
   "metadata": {},
   "outputs": [],
   "source": [
    "obesity_gdp.info()"
   ]
  },
  {
   "cell_type": "code",
   "execution_count": null,
   "id": "d4fa31c6-85a5-45c8-b987-1a00d7a146d1",
   "metadata": {},
   "outputs": [],
   "source": [
    "obesity_gdp.isnull().sum()   ## There are missing values "
   ]
  },
  {
   "cell_type": "code",
   "execution_count": null,
   "id": "a4429fbc-1db0-460f-8c5e-9b85e9762692",
   "metadata": {},
   "outputs": [],
   "source": [
    "obesity_gdp = obesity_gdp.dropna() "
   ]
  },
  {
   "cell_type": "code",
   "execution_count": null,
   "id": "f5db2b22-c1d0-4729-a567-ed5dc7962620",
   "metadata": {},
   "outputs": [],
   "source": [
    "obesity_gdp.isnull().sum()"
   ]
  },
  {
   "cell_type": "code",
   "execution_count": null,
   "id": "288e14dd-8b39-47e1-aaf2-b9c486c82739",
   "metadata": {},
   "outputs": [],
   "source": [
    "obesity_gdp.shape"
   ]
  },
  {
   "cell_type": "code",
   "execution_count": null,
   "id": "541bdc8f-7838-49aa-a5d4-db66637a627b",
   "metadata": {},
   "outputs": [],
   "source": []
  },
  {
   "cell_type": "markdown",
   "id": "3964eeeb-3120-470a-92cd-2fbd741c4560",
   "metadata": {},
   "source": [
    "## Obesity and daily intake of protein dataset for all countries"
   ]
  },
  {
   "cell_type": "code",
   "execution_count": null,
   "id": "384444a5-cebc-4484-a6d3-7aab81eb5fa8",
   "metadata": {},
   "outputs": [],
   "source": [
    "adult_obesity_protein= pd.read_csv('../data/adult_obesity_protein.csv')\n",
    "adult_obesity_protein"
   ]
  },
  {
   "cell_type": "code",
   "execution_count": null,
   "id": "96d2266d-60c8-4fa3-84d6-12ab7c2ad4de",
   "metadata": {},
   "outputs": [],
   "source": [
    "adult_obesity_protein = adult_obesity_protein.rename(columns={'Entity' : 'Country'})\n"
   ]
  },
  {
   "cell_type": "code",
   "execution_count": null,
   "id": "838300ed-93b6-4d0d-80af-27fd840f88f1",
   "metadata": {},
   "outputs": [],
   "source": [
    "adult_obesity_protein = adult_obesity_protein.drop(columns={'World regions according to OWID'})"
   ]
  },
  {
   "cell_type": "code",
   "execution_count": null,
   "id": "d2049d1a-2fec-4bc9-8189-5db7848e7464",
   "metadata": {},
   "outputs": [],
   "source": [
    "adult_obesity_protein.head(5)"
   ]
  },
  {
   "cell_type": "code",
   "execution_count": null,
   "id": "f0df057a-169c-4ebe-98c7-fc35fdaf3d89",
   "metadata": {},
   "outputs": [],
   "source": [
    "adult_obesity_protein.info()"
   ]
  },
  {
   "cell_type": "code",
   "execution_count": null,
   "id": "2b17367e-864a-47cf-98ac-a7878ed8f525",
   "metadata": {},
   "outputs": [],
   "source": [
    "adult_obesity_protein.isnull().sum()"
   ]
  },
  {
   "cell_type": "code",
   "execution_count": null,
   "id": "5a4f4d27-3a43-4e76-95e9-611a79dabf5c",
   "metadata": {},
   "outputs": [],
   "source": [
    "adult_obesity_protein= adult_obesity_protein.dropna()"
   ]
  },
  {
   "cell_type": "code",
   "execution_count": null,
   "id": "c54c7dda-e386-4669-81d1-6477aefac7dc",
   "metadata": {},
   "outputs": [],
   "source": [
    "adult_obesity_protein.shape"
   ]
  },
  {
   "cell_type": "code",
   "execution_count": null,
   "id": "a86fb9f6-b7ba-4077-a669-2b8788301bab",
   "metadata": {},
   "outputs": [],
   "source": []
  },
  {
   "cell_type": "code",
   "execution_count": null,
   "id": "d94caa91-387e-47a6-9f49-ed3f5a881c87",
   "metadata": {},
   "outputs": [],
   "source": [
    "Obesity_adult = pd.read_csv('../data/Obesity_adult.csv')\n",
    "Obesity_adult "
   ]
  },
  {
   "cell_type": "code",
   "execution_count": null,
   "id": "9351eb14-ed18-4afe-b784-2b528470a698",
   "metadata": {},
   "outputs": [],
   "source": [
    "Obesity_adult.Year.max()"
   ]
  },
  {
   "cell_type": "code",
   "execution_count": null,
   "id": "6b1307f9-f8a8-40fa-820d-167cab1a8de2",
   "metadata": {},
   "outputs": [],
   "source": [
    "Obesity_adult['Obesity_Prevalence '].value_counts().reset_index().sort_values('Obesity_Prevalence ',ascending=False).head(10)"
   ]
  },
  {
   "cell_type": "code",
   "execution_count": null,
   "id": "554e564a-8010-439c-bb7b-6faec59673f9",
   "metadata": {},
   "outputs": [],
   "source": [
    "Obesity_adult.isnull().sum()"
   ]
  },
  {
   "cell_type": "code",
   "execution_count": null,
   "id": "8148d8cc-54ae-44ac-8ad8-4c67823bada3",
   "metadata": {},
   "outputs": [],
   "source": [
    "Obesity_adult = Obesity_adult.dropna()"
   ]
  },
  {
   "cell_type": "code",
   "execution_count": null,
   "id": "390337cd-b588-4a89-b592-a1cd2a467364",
   "metadata": {},
   "outputs": [],
   "source": [
    "Obesity_adult.shape"
   ]
  },
  {
   "cell_type": "code",
   "execution_count": null,
   "id": "13732ec3-2aae-4b63-81df-586fb9736f4d",
   "metadata": {},
   "outputs": [],
   "source": [
    "Obesity_adult  = Obesity_adult.rename(columns={'Entity' : 'Country'})"
   ]
  },
  {
   "cell_type": "code",
   "execution_count": null,
   "id": "c82d90d1-affd-42d3-b454-1a7c051e270b",
   "metadata": {},
   "outputs": [],
   "source": [
    "Obesity_adult.head(1)"
   ]
  },
  {
   "cell_type": "code",
   "execution_count": null,
   "id": "4d9a756d-3536-412c-b252-6ed4e1ad51dd",
   "metadata": {},
   "outputs": [],
   "source": [
    "Obesity_adult.columns"
   ]
  },
  {
   "cell_type": "code",
   "execution_count": null,
   "id": "5a9e854d-a4b4-425c-8388-aaa182e9baca",
   "metadata": {
    "scrolled": true
   },
   "outputs": [],
   "source": [
    "plt.figure(figsize=(12, 8))\n",
    "sns.lineplot(data=Obesity_adult, x='Year', y='Obesity_Prevalence ', hue='Country', marker='o')\n",
    "plt.title('Obesity Prevalence Over Time by Country')\n",
    "plt.xlabel('Year')\n",
    "plt.ylabel('Obesity Prevalence (%)')\n",
    "plt.legend(title='Country', bbox_to_anchor=(1.05, 1), loc='upper left')"
   ]
  },
  {
   "cell_type": "code",
   "execution_count": null,
   "id": "a8b8c79b-ec52-49af-bfb5-0e72eeae32d1",
   "metadata": {},
   "outputs": [],
   "source": [
    "countries_of_interest = ['Mexico', 'Peru', 'Colombia']\n",
    "Obesity_adult_filtered = Obesity_adult[Obesity_adult['Country'].isin(countries_of_interest)]"
   ]
  },
  {
   "cell_type": "markdown",
   "id": "a099aa98-2257-44b8-88d9-3329363e598b",
   "metadata": {
    "scrolled": true
   },
   "source": [
    "plt.figure(figsize=(12, 8))\n",
    "sns.lineplot(data=Obesity_adult_filtered, x='Year', y='Obesity_Prevalence ', hue='Country', marker='s')\n",
    "plt.title('Obesity Prevalence Over Time (Mexico, Peru, Colombia)')\n",
    "plt.xlabel('Year')\n",
    "plt.ylabel('Obesity Prevalence (%)')\n",
    "plt.legend(title='Country', bbox_to_anchor=(1.05, 1), loc='upper left')"
   ]
  },
  {
   "cell_type": "code",
   "execution_count": null,
   "id": "d904efd1-a5e9-4f5d-a55c-75cd8ceabefe",
   "metadata": {},
   "outputs": [],
   "source": [
    "g = sns.FacetGrid(Obesity_adult, col=\"Country\", col_wrap=4, height=4)\n",
    "g.map(sns.lineplot, 'Year', 'Obesity_Prevalence ')\n",
    "g.set_axis_labels('Year', 'Obesity Prevalence (%)')\n",
    "g.set_titles(\"{col_name}\")\n",
    "plt.tight_layout()\n",
    "plt.show()\n"
   ]
  },
  {
   "cell_type": "code",
   "execution_count": null,
   "id": "dd8a2e50-7522-4a84-ad8a-2a03b4241699",
   "metadata": {
    "scrolled": true
   },
   "outputs": [],
   "source": [
    "Country_df = Obesity_adult[['Country','Obesity_Prevalence ']].value_counts().reset_index()\n",
    "Country_df.sort_values('Obesity_Prevalence ',ascending=False).head(10)"
   ]
  },
  {
   "cell_type": "code",
   "execution_count": null,
   "id": "faf8ed09-0ade-4c33-b9a1-3be7b4497a17",
   "metadata": {},
   "outputs": [],
   "source": [
    "Country_df = Obesity_adult[['Country','Obesity_Prevalence ']].value_counts().reset_index()\n",
    "Country_df.sort_values('Obesity_Prevalence ',ascending=False).tail(10)"
   ]
  },
  {
   "cell_type": "code",
   "execution_count": null,
   "id": "2eaf8489-e9d9-4a45-9d0b-25664724f016",
   "metadata": {},
   "outputs": [],
   "source": [
    "Country_gdp = obesity_gdp[['Country','Gdp_ per_capita']].value_counts().reset_index().sort_values('Gdp_ per_capita',ascending=False).head(10)\n",
    "Country_gdp"
   ]
  },
  {
   "cell_type": "code",
   "execution_count": null,
   "id": "643d573d-3cd3-4fef-b562-52e4dc5d7ef2",
   "metadata": {},
   "outputs": [],
   "source": [
    "obesity_gdp[['Country','Gdp_ per_capita']].value_counts().reset_index().sort_values('Gdp_ per_capita',ascending=False).head(10)"
   ]
  },
  {
   "cell_type": "markdown",
   "id": "13c3b573-3592-435e-9af8-46170f140c6a",
   "metadata": {},
   "source": [
    "## Obesity countries dataset with Population"
   ]
  },
  {
   "cell_type": "code",
   "execution_count": null,
   "id": "9360fc56-d1ba-4285-adc5-d27611bfc1a8",
   "metadata": {},
   "outputs": [],
   "source": [
    "Obesity_daily_calories_pop= pd.read_csv('../data/Obesity_daily_calories.csv')\n",
    "Obesity_daily_calories_pop"
   ]
  },
  {
   "cell_type": "code",
   "execution_count": null,
   "id": "14f92d41-e4fc-43e3-afe9-4107d168ff81",
   "metadata": {},
   "outputs": [],
   "source": [
    "Obesity_daily_calories_pop = Obesity_daily_calories_pop.rename(columns={'Entity':'Country','Population (historical)' : 'Population'})"
   ]
  },
  {
   "cell_type": "code",
   "execution_count": null,
   "id": "93947c55-ff78-4ff3-8b37-874f7198559a",
   "metadata": {},
   "outputs": [],
   "source": [
    "Obesity_daily_calories_pop =Obesity_daily_calories_pop.drop(columns={'Overweight or Obese (NCDRisC (2017))','World regions according to OWID'})"
   ]
  },
  {
   "cell_type": "code",
   "execution_count": null,
   "id": "08742401-e945-494f-8b1e-303ec04f4252",
   "metadata": {},
   "outputs": [],
   "source": [
    "Obesity_daily_calories_pop.info()"
   ]
  },
  {
   "cell_type": "code",
   "execution_count": null,
   "id": "996dc85d-6945-407d-be17-92d1d403fc0a",
   "metadata": {},
   "outputs": [],
   "source": [
    "Obesity_pop = Obesity_daily_calories_pop[['Country','Population']].value_counts().reset_index().sort_values('Population',ascending=False)\n",
    "Obesity_pop"
   ]
  },
  {
   "cell_type": "code",
   "execution_count": null,
   "id": "8ec80b9e-1551-405c-861d-71420168e003",
   "metadata": {},
   "outputs": [],
   "source": []
  },
  {
   "cell_type": "code",
   "execution_count": null,
   "id": "c45e6211-28a3-46c2-ba80-51ad8f4fb877",
   "metadata": {},
   "outputs": [],
   "source": [
    "Countries_population = Obesity_pop.loc[Obesity_pop.Country != 'World']\n",
    "Countries_population"
   ]
  },
  {
   "cell_type": "markdown",
   "id": "e43e34ce-190a-4144-abe1-de279a78a562",
   "metadata": {},
   "source": [
    "## Life expectancyFor all countries"
   ]
  },
  {
   "cell_type": "code",
   "execution_count": null,
   "id": "6cf44e27-4efe-43a9-a27e-299dad5c6cdd",
   "metadata": {},
   "outputs": [],
   "source": [
    "ob_life_expectancy = pd.read_csv('../data/life_expectancy.csv')\n",
    "ob_life_expectancy"
   ]
  },
  {
   "cell_type": "code",
   "execution_count": null,
   "id": "a01b248e-b2f0-462f-8258-0a3e12af92a8",
   "metadata": {},
   "outputs": [],
   "source": [
    "ob_life_expectancy.isnull().sum()"
   ]
  },
  {
   "cell_type": "code",
   "execution_count": null,
   "id": "41140ee4-097c-4be6-a034-16793e0f56a6",
   "metadata": {},
   "outputs": [],
   "source": [
    "ob_life_expectancy = ob_life_expectancy.dropna()"
   ]
  },
  {
   "cell_type": "code",
   "execution_count": null,
   "id": "fcfb1d54-3c9b-4ed4-acf5-e3e1a319b7d6",
   "metadata": {},
   "outputs": [],
   "source": [
    "ob_life_expectancy.shape"
   ]
  },
  {
   "cell_type": "code",
   "execution_count": null,
   "id": "6dc14e46-75e0-48be-bd15-deb042928bff",
   "metadata": {},
   "outputs": [],
   "source": [
    "ob_life_expectancy = ob_life_expectancy.rename(columns={'Entity' : 'Country'})\n",
    "ob_life_expectancy.head(1)"
   ]
  },
  {
   "cell_type": "markdown",
   "id": "7076755b-30c2-46d7-949b-3e9afdbc477c",
   "metadata": {},
   "source": [
    "## Merge aall the datasets with Country and code and year "
   ]
  },
  {
   "cell_type": "code",
   "execution_count": null,
   "id": "ca6178a8-5a35-4f74-8dbe-d9ab4de5506e",
   "metadata": {},
   "outputs": [],
   "source": [
    "obesity_gdp.head(1)"
   ]
  },
  {
   "cell_type": "code",
   "execution_count": null,
   "id": "bfe7485f-c967-4ec2-a8b0-a418b5fc966e",
   "metadata": {},
   "outputs": [],
   "source": [
    "adult_obesity_protein.head(1)"
   ]
  },
  {
   "cell_type": "code",
   "execution_count": null,
   "id": "e7461998-93fd-421e-8994-3134e58bc169",
   "metadata": {},
   "outputs": [],
   "source": [
    "obesity_gdp_protein = pd.merge(obesity_gdp, adult_obesity_protein,\n",
    "                               left_on =['Country','Code','Year'], right_on =['Country','Code','Year'],\n",
    "                               how='inner')\n",
    "obesity_gdp_protein "
   ]
  },
  {
   "cell_type": "code",
   "execution_count": null,
   "id": "2bb68ed0-f2ed-45c6-828e-c9a880d0de1a",
   "metadata": {},
   "outputs": [],
   "source": [
    "obesity_gdp_protein = obesity_gdp_protein.drop(columns={'Obesity_prevalence '})\n",
    "                                                            "
   ]
  },
  {
   "cell_type": "code",
   "execution_count": null,
   "id": "21304049-1551-41b8-b1f0-d6a6ac49ba76",
   "metadata": {},
   "outputs": [],
   "source": [
    "obesity_gdp_protein_lex = pd.merge(obesity_gdp_protein,ob_life_expectancy,\n",
    "                               left_on =['Country','Code','Year'], right_on =['Country','Code','Year'],\n",
    "                               how='inner')\n",
    "obesity_gdp_protein_lex"
   ]
  },
  {
   "cell_type": "code",
   "execution_count": null,
   "id": "78cd0e5c-4368-4d04-b0d8-01c05002aace",
   "metadata": {},
   "outputs": [],
   "source": []
  },
  {
   "cell_type": "code",
   "execution_count": null,
   "id": "358e46c6-1880-4673-85fd-ee36f480f39a",
   "metadata": {},
   "outputs": [],
   "source": [
    "obesity_gdp_protein_lex_pop = pd.merge(obesity_gdp_protein_lex, Obesity_daily_calories_pop,\n",
    "                               left_on =['Country','Code','Year'], right_on =['Country','Code','Year'],\n",
    "                               how='inner')\n",
    "obesity_gdp_protein_lex_pop "
   ]
  },
  {
   "cell_type": "code",
   "execution_count": null,
   "id": "44159c81-d956-4162-83b0-6609356424c3",
   "metadata": {},
   "outputs": [],
   "source": [
    "obesity_gdp_protein_lex_pop.columns"
   ]
  },
  {
   "cell_type": "code",
   "execution_count": null,
   "id": "024cb899-8c7c-487d-aaec-3b527d3a9fcb",
   "metadata": {},
   "outputs": [],
   "source": []
  },
  {
   "cell_type": "markdown",
   "id": "c9cb3a23-938a-4b72-b18f-60cebbea0b37",
   "metadata": {},
   "source": [
    "## Questions "
   ]
  },
  {
   "cell_type": "code",
   "execution_count": null,
   "id": "05dc67a3-8970-4020-99a9-72f7328f3265",
   "metadata": {},
   "outputs": [],
   "source": [
    "obesity_gdp_protein_lex_pop[['Country','Year','Obesity_Prevalence _both']].value_counts().reset_index().sort_values('Obesity_Prevalence _both',ascending=False).head(1)"
   ]
  },
  {
   "cell_type": "markdown",
   "id": "eeb08147-9eb3-4ce9-8934-7845acc2bb96",
   "metadata": {},
   "source": [
    "## 1.Which country had the greatest increase in obesity rates over time,and which had a \n",
    "decrease?"
   ]
  },
  {
   "cell_type": "markdown",
   "id": "63396769-7b68-4d65-be22-23f62c8ce9ed",
   "metadata": {},
   "source": [
    "## which country had the greastest increase in Obesity rates ?"
   ]
  },
  {
   "cell_type": "code",
   "execution_count": null,
   "id": "220e906f-f0f0-4819-a536-a1b0968cb25f",
   "metadata": {},
   "outputs": [],
   "source": [
    "Country_high_obesity = obesity_gdp_protein_lex_pop[['Country','Year','Obesity_Prevalence _both']].value_counts().reset_index().sort_values('Obesity_Prevalence _both',ascending=False).head(1).Country.to_list()\n",
    "Country_high_obesity "
   ]
  },
  {
   "cell_type": "code",
   "execution_count": null,
   "id": "4eb4e20c-cedd-404e-b181-792d326191b2",
   "metadata": {},
   "outputs": [],
   "source": [
    "Obese_high_country = obesity_gdp_protein_lex_pop.loc[obesity_gdp_protein_lex_pop.Country.isin(Country_high_obesity)]\n"
   ]
  },
  {
   "cell_type": "code",
   "execution_count": null,
   "id": "55d2821e-d637-45ec-b65f-ac1da47d6133",
   "metadata": {},
   "outputs": [],
   "source": [
    "plt.figure(figsize=(14, 6))\n",
    "for country in Obese_high_country['Country'].unique():\n",
    "    country_data = Obese_high_country[Obese_high_country['Country'] == country]\n",
    "    \n",
    "    sns.lineplot(\n",
    "        data=country_data, \n",
    "        x='Year', \n",
    "        y='Obesity_Prevalence _both', \n",
    "        label=country, \n",
    "        color='brown',\n",
    "        marker='o', \n",
    "        linewidth=2.5,   \n",
    "        markersize=8,    \n",
    "        dashes=False  \n",
    ")\n",
    "plt.xlabel('Year', fontsize=14, fontweight='bold')\n",
    "plt.ylabel('Obesity Prevalence (%)', fontsize=14, fontweight='bold')\n",
    "plt.title('Obesity Prevalence Trend Over Years', fontsize=16, fontweight='bold')\n",
    "plt.gca().set_facecolor('lightyellow')\n",
    "plt.legend(title=\"Country\", fontsize=12)\n",
    "plt.grid(True, linestyle='--', linewidth=0.5, alpha=0.7)\n",
    "plt.ylim(bottom=0)\n",
    "plt.show()"
   ]
  },
  {
   "cell_type": "code",
   "execution_count": null,
   "id": "9ecec319-b102-4f7c-b162-5ab01bc61746",
   "metadata": {},
   "outputs": [],
   "source": [
    "Kiribati_df = obesity_gdp_protein_lex_pop[obesity_gdp_protein_lex_pop['Country'] == 'Kiribati']"
   ]
  },
  {
   "cell_type": "code",
   "execution_count": null,
   "id": "40b2ca1a-ac08-4020-97eb-b6b4ca2e7e8b",
   "metadata": {},
   "outputs": [],
   "source": [
    "avg_countries = obesity_gdp_protein_lex_pop[obesity_gdp_protein_lex_pop['Country'] != 'Kiribati']\n",
    "countries_avg = avg_countries.groupby('Year')['Obesity_Prevalence _both'].mean().reset_index() "
   ]
  },
  {
   "cell_type": "code",
   "execution_count": null,
   "id": "230aaafc-be12-446e-89a2-ef5c97dea677",
   "metadata": {},
   "outputs": [],
   "source": [
    "plt.figure(figsize=(14, 6))\n",
    "sns.lineplot(data=Kiribati_df, x='Year', y='Obesity_Prevalence _both', label='Kiribati', color='Brown', marker='o', linewidth=3, markersize=8,    \n",
    "        dashes=False )\n",
    "sns.lineplot(data=countries_avg, x='Year', y='Obesity_Prevalence _both', label='Average of Other Countries', color='Orange', linewidth=3, linestyle='--')\n",
    "plt.title('Obesity Prevalence: Kiribati vs. Average of Other Countries', fontsize=16, fontweight='bold')\n",
    "plt.gca().set_facecolor('lightyellow')\n",
    "plt.xlabel('Year', fontsize=14, fontweight='bold')\n",
    "plt.ylabel('Obesity Prevalence (%)', fontsize=14, fontweight='bold')\n",
    "plt.legend(title=\"Country\", fontsize=12)\n",
    "plt.show()"
   ]
  },
  {
   "cell_type": "code",
   "execution_count": null,
   "id": "c3c8c6e3-61e2-4e42-95cb-0020f398e308",
   "metadata": {},
   "outputs": [],
   "source": []
  },
  {
   "cell_type": "markdown",
   "id": "6aee3b5b-71a4-470c-bf0e-04c86453875f",
   "metadata": {},
   "source": [
    "## which country had a decrease in Obesity rates?"
   ]
  },
  {
   "cell_type": "code",
   "execution_count": null,
   "id": "d9865b5b-6572-4021-b947-daf4f0dcfbff",
   "metadata": {},
   "outputs": [],
   "source": [
    "obesity_gdp_protein_lex_pop.columns"
   ]
  },
  {
   "cell_type": "code",
   "execution_count": null,
   "id": "f73c50bc-8921-4a83-a486-b30c2ca1eb80",
   "metadata": {},
   "outputs": [],
   "source": [
    "obesity_gdp_protein_lex_pop.sort_values(by=['Country', 'Year'], inplace=True)"
   ]
  },
  {
   "cell_type": "code",
   "execution_count": null,
   "id": "60cef7ba-e6ae-41ec-bb15-009e7d03c57e",
   "metadata": {},
   "outputs": [],
   "source": [
    "\n",
    "obesity_gdp_protein_lex_pop['Obesity_change'] = obesity_gdp_protein_lex_pop.groupby('Country')['Obesity_Prevalence _both'].diff()"
   ]
  },
  {
   "cell_type": "code",
   "execution_count": null,
   "id": "b6ecbd12-df02-4d9a-84be-947ef3feacc2",
   "metadata": {},
   "outputs": [],
   "source": [
    "countries_with_decrease = obesity_gdp_protein_lex_pop[obesity_gdp_protein_lex_pop['Obesity_change'] < 0]"
   ]
  },
  {
   "cell_type": "code",
   "execution_count": null,
   "id": "b91142e1-370a-4822-83e0-14ed0a97f415",
   "metadata": {},
   "outputs": [],
   "source": [
    "decreasing_countries = countries_with_decrease['Country'].unique()\n",
    "decreasing_countries"
   ]
  },
  {
   "cell_type": "code",
   "execution_count": null,
   "id": "ea5b219e-6d0f-4f9b-aab9-540547b5f3e0",
   "metadata": {},
   "outputs": [],
   "source": [
    "obesity_decreased = obesity_gdp_protein_lex_pop.loc[obesity_gdp_protein_lex_pop.Country == 'United Arab Emirates']"
   ]
  },
  {
   "cell_type": "code",
   "execution_count": null,
   "id": "78034085-b227-4706-86d9-2bd556d3e5f4",
   "metadata": {},
   "outputs": [],
   "source": [
    "obesity_decreased"
   ]
  },
  {
   "cell_type": "code",
   "execution_count": null,
   "id": "ae55386c-5b4b-4ff6-8fed-078fc59a8d23",
   "metadata": {},
   "outputs": [],
   "source": [
    "plt.figure(figsize=(14, 6))\n",
    "for country in obesity_decreased ['Country'].unique():\n",
    "    country_data = obesity_decreased [obesity_decreased ['Country'] == country]\n",
    "    \n",
    "    sns.lineplot(\n",
    "        data=obesity_decreased , \n",
    "        x='Year', \n",
    "        y='Obesity_Prevalence _both', \n",
    "        label=country, \n",
    "        color='brown',\n",
    "        marker='o', \n",
    "        linewidth=2.5,   \n",
    "        markersize=8,    \n",
    "        dashes=False  \n",
    ")\n",
    "plt.xlabel('Year', fontsize=14, fontweight='bold')\n",
    "plt.ylabel('Obesity Prevalence (%)', fontsize=14, fontweight='bold')\n",
    "plt.title('Obesity Prevalence Trend Over Years', fontsize=16, fontweight='bold')\n",
    "plt.gca().set_facecolor('lightyellow')\n",
    "plt.legend(title=\"Country\", fontsize=12)\n",
    "plt.grid(True, linestyle='--', linewidth=0.5, alpha=0.7)\n",
    "plt.ylim(bottom=0)\n",
    "plt.show()"
   ]
  },
  {
   "cell_type": "code",
   "execution_count": null,
   "id": "12ef0ee7-78c9-49b2-8bcc-b7f1bf405264",
   "metadata": {},
   "outputs": [],
   "source": []
  },
  {
   "cell_type": "markdown",
   "id": "32d0bdb5-0b1e-49dc-aa1d-8f236b0a138c",
   "metadata": {},
   "source": [
    "## 2.which country had lowest Obesity rates in Overall ?"
   ]
  },
  {
   "cell_type": "code",
   "execution_count": null,
   "id": "dc357e2b-7cca-4c66-a6bb-3b105c62510b",
   "metadata": {},
   "outputs": [],
   "source": [
    "Country_low_obesity = obesity_gdp_protein_lex_pop[['Country','Year','Obesity_Prevalence _both']].value_counts().reset_index().sort_values('Obesity_Prevalence _both',ascending=False).tail(1).Country.to_list()\n",
    "Country_low_obesity "
   ]
  },
  {
   "cell_type": "code",
   "execution_count": null,
   "id": "b39e03ef-2ff0-4b2a-a0ec-471861911080",
   "metadata": {},
   "outputs": [],
   "source": [
    "Obese_low_country = obesity_gdp_protein_lex_pop.loc[obesity_gdp_protein_lex_pop.Country.isin(Country_low_obesity)]"
   ]
  },
  {
   "cell_type": "code",
   "execution_count": null,
   "id": "27f8e1c3-8b54-4c95-80f0-48de9c66c47c",
   "metadata": {},
   "outputs": [],
   "source": [
    "plt.figure(figsize=(14, 6))\n",
    "for country in Obese_low_country['Country'].unique():\n",
    "    country_data = Obese_low_country[Obese_low_country['Country'] == country]\n",
    "    \n",
    "    sns.lineplot(\n",
    "        data=country_data, \n",
    "        x='Year', \n",
    "        y='Obesity_Prevalence _both', \n",
    "        label=country, \n",
    "        color='Orange',\n",
    "        marker='o', \n",
    "        linewidth=2.5,   \n",
    "        markersize=8,    \n",
    "        dashes=False  \n",
    ")\n",
    "plt.xlabel('Year', fontsize=14, fontweight='bold')\n",
    "plt.ylabel('Obesity Prevalence (%)', fontsize=14, fontweight='bold')\n",
    "plt.title('Obesity Prevalence Trend Over Years', fontsize=16, fontweight='bold')\n",
    "plt.legend(title=\"Country\", fontsize=12)\n",
    "plt.grid(True, linestyle='--', linewidth=0.5, alpha=0.7)"
   ]
  },
  {
   "cell_type": "code",
   "execution_count": null,
   "id": "c547b820-7c75-4974-b64c-086e2441b938",
   "metadata": {},
   "outputs": [],
   "source": [
    "vietnam_df = obesity_gdp_protein_lex_pop[obesity_gdp_protein_lex_pop['Country'] == 'Vietnam']\n"
   ]
  },
  {
   "cell_type": "code",
   "execution_count": null,
   "id": "5bd8f7e6-3da0-412c-be12-c7062763b89b",
   "metadata": {},
   "outputs": [],
   "source": [
    "avg_df_countries = obesity_gdp_protein_lex_pop[obesity_gdp_protein_lex_pop['Country'] != 'Vietnam']\n",
    "avg_countries= avg_df_countries.groupby('Year')['Obesity_Prevalence _both'].mean().reset_index()"
   ]
  },
  {
   "cell_type": "code",
   "execution_count": null,
   "id": "80b114f6-90aa-4df6-89c6-35b8d241d9e4",
   "metadata": {},
   "outputs": [],
   "source": [
    "plt.figure(figsize=(14, 6))\n",
    "sns.lineplot(data=vietnam_df, x='Year', y='Obesity_Prevalence _both', label='Vietnam', color='orange', marker='o', linewidth=3, markersize=8,    \n",
    "        dashes=False )\n",
    "sns.lineplot(data=avg_countries, x='Year', y='Obesity_Prevalence _both', label='Average of Other Countries', color='brown', linewidth=3, linestyle='--')\n",
    "plt.title('Obesity Prevalence: Vietnam vs. Average of Other Countries', fontsize=16, fontweight='bold')\n",
    "plt.gca().set_facecolor('lightyellow')\n",
    "plt.xlabel('Year', fontsize=14, fontweight='bold')\n",
    "plt.ylabel('Obesity Prevalence (%)', fontsize=14, fontweight='bold')\n",
    "plt.legend(title=\"Country\", fontsize=12)\n",
    "plt.show()"
   ]
  },
  {
   "cell_type": "code",
   "execution_count": null,
   "id": "87786ad8-40c0-4617-92c5-44ca68a5108a",
   "metadata": {},
   "outputs": [],
   "source": []
  },
  {
   "cell_type": "markdown",
   "id": "5fbdcd19-0554-4562-93e8-470088f382c1",
   "metadata": {},
   "source": [
    "## 3.Which coutries had a higher Obesity rates in 2015 than in 1990?"
   ]
  },
  {
   "cell_type": "markdown",
   "id": "dd586989-e643-46a0-96f3-d6dc9a39e009",
   "metadata": {},
   "source": [
    "## These Countries had higher Obesity rates in 2015 than 1990"
   ]
  },
  {
   "cell_type": "code",
   "execution_count": null,
   "id": "824e046a-9598-4a11-a994-04e7b8071982",
   "metadata": {},
   "outputs": [],
   "source": [
    "Obesity_df_1990  = obesity_gdp_protein_lex_pop.loc[obesity_gdp_protein_lex_pop.Year == 1990]\n",
    "Obesity_df_1990 = Obesity_df_1990.sort_values(by = \"Obesity_Prevalence _both\" , ascending =False).head(5)\n",
    "Obesity_df_1990"
   ]
  },
  {
   "cell_type": "code",
   "execution_count": null,
   "id": "11cb6775-c990-4b65-8680-f3639899f5cb",
   "metadata": {},
   "outputs": [],
   "source": [
    "plt.figure(figsize=(7, 6))\n",
    "sns.barplot(x=Obesity_df_1990.Country, y=Obesity_df_1990['Obesity_Prevalence _both'],color='Brown')\n",
    "plt.title('Top 5 Countries with Highest Obesity Prevalence In 1990', fontsize=16, fontweight='bold')\n",
    "plt.xlabel('Country', fontsize=14, fontweight='bold')\n",
    "plt.ylabel('Obesity Prevalence (%)', fontsize=14, fontweight='bold')\n",
    "plt.show()"
   ]
  },
  {
   "cell_type": "code",
   "execution_count": null,
   "id": "af3cbb47-5ef6-4dcf-b9ce-3b5c44ff2faf",
   "metadata": {},
   "outputs": [],
   "source": []
  },
  {
   "cell_type": "code",
   "execution_count": null,
   "id": "92a59cb6-f774-4b3a-ac0f-ee42abadc43e",
   "metadata": {},
   "outputs": [],
   "source": [
    "Obesity_df_2015 = obesity_gdp_protein_lex_pop.loc[obesity_gdp_protein_lex_pop.Year == 2015]\n",
    "Obesity_df_2015 = Obesity_df_2015.sort_values(by = \"Obesity_Prevalence _both\" , ascending =False).head(5)\n",
    "Obesity_df_2015 "
   ]
  },
  {
   "cell_type": "code",
   "execution_count": null,
   "id": "b6f7e4c5-9903-4a0a-8bb6-a959940f94c0",
   "metadata": {},
   "outputs": [],
   "source": [
    "plt.figure(figsize=(7, 6))\n",
    "sns.barplot(x=Obesity_df_2015.Country, y=Obesity_df_2015['Obesity_Prevalence _both'],color='Brown')\n",
    "plt.title('Top 5 Countries with Highest Obesity Prevalence In 2015', fontsize=16, fontweight='bold')\n",
    "plt.xlabel('Country', fontsize=14, fontweight='bold')\n",
    "plt.ylabel('Obesity Prevalence (%)', fontsize=14, fontweight='bold')\n",
    "plt.show()"
   ]
  },
  {
   "cell_type": "markdown",
   "id": "03bccf1c-e657-4ce1-abbd-e704888155fb",
   "metadata": {},
   "source": [
    "## 7.Comparing Obesity Prevalence, Gdp_ per_capita, Daily protein supply per person, Life_expectancy, Daily calorie supply per person, Population  for 1990,2000 and 2010"
   ]
  },
  {
   "cell_type": "code",
   "execution_count": null,
   "id": "46538323-fad0-41ab-bd10-daf360a2447f",
   "metadata": {},
   "outputs": [],
   "source": [
    "my_list = [1990,2000,2010]\n",
    "ob_decades =  obesity_gdp_protein_lex_pop.loc[obesity_gdp_protein_lex_pop.Year.isin(my_list)]\n",
    "ob_decades"
   ]
  },
  {
   "cell_type": "markdown",
   "id": "cc904fe7-0d40-494e-b3cc-b1a8bd2a0ccb",
   "metadata": {},
   "source": [
    " ## Comparing Obesity Prevalence for 1990,2000 and 2010"
   ]
  },
  {
   "cell_type": "code",
   "execution_count": null,
   "id": "0d70fdf6-49c7-4f08-a3c0-20dc30297e5b",
   "metadata": {},
   "outputs": [],
   "source": [
    "import matplotlib.pyplot as plt\n",
    "plt.figure(figsize=(7, 6))\n",
    "sns.boxplot(data = ob_decades, x= 'Year', y = 'Obesity_Prevalence _both',palette=\"YlOrBr\")\n",
    "plt.xlabel('Year', fontsize=14, fontweight='bold')\n",
    "plt.ylabel('Obesity Prevalence (%)', fontsize=14, fontweight='bold')\n",
    "plt.title('Comparing obesity prevalence Over Decades (1990, 2000, 2010)', fontsize=16, fontweight='bold')\n",
    "plt.gca().set_facecolor('lightyellow')\n",
    "plt.show()"
   ]
  },
  {
   "cell_type": "markdown",
   "id": "1ffe4027-eef0-4391-8830-758a84400af6",
   "metadata": {},
   "source": [
    "## Comparing GDP Per capita for 1990,2000 and 2010"
   ]
  },
  {
   "cell_type": "code",
   "execution_count": null,
   "id": "33ed1b61-5f0c-4830-b07d-eb1b65323319",
   "metadata": {},
   "outputs": [],
   "source": [
    "import matplotlib.pyplot as plt\n",
    "plt.figure(figsize=(7, 6))\n",
    "sns.boxplot(data = ob_decades, x= 'Year', y = 'Gdp_ per_capita',palette=\"YlOrBr\")\n",
    "plt.xlabel('Year', fontsize=14, fontweight='bold')\n",
    "plt.ylabel('GDP per capita', fontsize=14, fontweight='bold')\n",
    "plt.title('Comparing GDP per capita Over Decades (1990, 2000, 2010)', fontsize=15, fontweight='bold')\n",
    "plt.gca().set_facecolor('lightyellow')\n",
    "plt.show()"
   ]
  },
  {
   "cell_type": "markdown",
   "id": "19b2175a-96c1-4657-ab21-6e1fd2fb947e",
   "metadata": {},
   "source": []
  },
  {
   "cell_type": "markdown",
   "id": "89df1cc9-c529-4e10-bb7b-be26df56f274",
   "metadata": {},
   "source": [
    "## Comparing Life Expectancy for 1990,2000 and 2010"
   ]
  },
  {
   "cell_type": "code",
   "execution_count": null,
   "id": "f7c27d15-a221-40f4-9c02-e8d3e486beec",
   "metadata": {},
   "outputs": [],
   "source": [
    "import matplotlib.pyplot as plt\n",
    "plt.figure(figsize=(7, 6))\n",
    "sns.boxplot(data = ob_decades, x= 'Year', y = 'Life_expectancy ',palette=\"YlOrBr\")\n",
    "plt.xlabel('Year', fontsize=14, fontweight='bold')\n",
    "plt.ylabel('Life Expectancy', fontsize=14, fontweight='bold')\n",
    "plt.title('Comparing Life Expectancy Over Decades (1990, 2000, 2010)', fontsize=16, fontweight='bold')\n",
    "plt.gca().set_facecolor('lightyellow')\n",
    "plt.show()"
   ]
  },
  {
   "cell_type": "markdown",
   "id": "ce482ef0-3b49-4f5a-b539-e60b42270105",
   "metadata": {},
   "source": [
    "## Comparing Daily protein supply per person for 1990,2000,2010"
   ]
  },
  {
   "cell_type": "code",
   "execution_count": null,
   "id": "d39489c5-e0ee-4b8e-8924-281475fb2fe8",
   "metadata": {},
   "outputs": [],
   "source": [
    "import matplotlib.pyplot as plt\n",
    "plt.figure(figsize=(7, 6))\n",
    "sns.boxplot(data = ob_decades, x= 'Year', y = 'Daily protein supply per person',palette=\"YlOrBr\")\n",
    "plt.xlabel('Year', fontsize=14, fontweight='bold')\n",
    "plt.ylabel('Daily protein supply per person', fontsize=14, fontweight='bold')\n",
    "plt.title('Comparing Daily protein supply per person Over Decades (1990, 2000, 2010)', fontsize=16, fontweight='bold')\n",
    "plt.gca().set_facecolor('lightyellow')\n",
    "plt.show()"
   ]
  },
  {
   "cell_type": "markdown",
   "id": "7da18f77-523b-4949-94b7-bf7f64ebeb75",
   "metadata": {},
   "source": [
    "## Comparing Daily calories supply For 1990, 2000, 2010"
   ]
  },
  {
   "cell_type": "code",
   "execution_count": null,
   "id": "875c4bc8-513c-4772-9d13-86cd5816700f",
   "metadata": {},
   "outputs": [],
   "source": [
    "import matplotlib.pyplot as plt\n",
    "plt.figure(figsize=(7, 6))\n",
    "sns.boxplot(data = ob_decades, x= 'Year', y = 'Daily calorie supply per person',palette=\"YlOrBr\")\n",
    "plt.xlabel('Year', fontsize=14, fontweight='bold')\n",
    "plt.ylabel('Daily calorie supply per person', fontsize=14, fontweight='bold')\n",
    "plt.title('Comparing Daily calorie supply per person Over Decades (1990, 2000, 2010)', fontsize=16, fontweight='bold')\n",
    "plt.gca().set_facecolor('lightyellow')\n",
    "plt.show()"
   ]
  },
  {
   "cell_type": "markdown",
   "id": "f411a4ba-a51d-4d90-b0c3-8c25be285b17",
   "metadata": {},
   "source": [
    "## Comparing Population For 1990,2000,2010 Years"
   ]
  },
  {
   "cell_type": "code",
   "execution_count": null,
   "id": "1872f4a7-d71f-4589-9be2-e7a9274ed54b",
   "metadata": {},
   "outputs": [],
   "source": [
    "ob_decades['Population'] = ob_decades['Population'].astype(int)"
   ]
  },
  {
   "cell_type": "code",
   "execution_count": null,
   "id": "47048ca9-fc9a-4a13-8194-126c9543e811",
   "metadata": {},
   "outputs": [],
   "source": [
    "import matplotlib.pyplot as plt\n",
    "plt.figure(figsize=(7, 6))\n",
    "sns.boxplot(data = ob_decades, x= 'Year', y = 'Population',palette=\"YlOrBr\")\n",
    "plt.xlabel('Year', fontsize=14, fontweight='bold')\n",
    "plt.ylabel('Obesity Prevalence (%)', fontsize=14, fontweight='bold')\n",
    "plt.title('Comparing Population Over Decades (1990, 2000, 2010)', fontsize=16, fontweight='bold')\n",
    "plt.show()"
   ]
  },
  {
   "cell_type": "code",
   "execution_count": null,
   "id": "db22a85f-6c03-4bec-9f1d-32fe3eed698f",
   "metadata": {},
   "outputs": [],
   "source": []
  },
  {
   "cell_type": "markdown",
   "id": "36d474df-3609-4848-8cdd-4c439f46c8e6",
   "metadata": {},
   "source": [
    "## 4.How does the distribution of Obesity Prevalence differ between 2000 and 2015"
   ]
  },
  {
   "cell_type": "code",
   "execution_count": null,
   "id": "4552b564-f1fd-4ecd-a7f7-cf35f130ec16",
   "metadata": {},
   "outputs": [],
   "source": [
    "my_list=[2000,2015]\n",
    "obesity_gdp_protein_lex_pop_2000_2015 = obesity_gdp_protein_lex_pop.loc[obesity_gdp_protein_lex_pop.Year.isin(my_list)]\n",
    "obesity_gdp_protein_lex_pop_2000_2015"
   ]
  },
  {
   "cell_type": "code",
   "execution_count": null,
   "id": "4d3672dc-1ced-496a-b95b-8b9b575a3cb9",
   "metadata": {},
   "outputs": [],
   "source": [
    "obesity_gdp_protein_lex_pop_2000_2015['Obesity_Prevalence _both'].describe()"
   ]
  },
  {
   "cell_type": "code",
   "execution_count": null,
   "id": "1cf21516-1d0c-4202-b3ce-3e4442bf41d7",
   "metadata": {},
   "outputs": [],
   "source": [
    "import matplotlib.pyplot as plt\n",
    "plt.figure(figsize=(7, 6))\n",
    "sns.boxplot(data = obesity_gdp_protein_lex_pop_2000_2015, x= 'Year', y = 'Obesity_Prevalence _both',palette=\"YlOrBr\")\n",
    "plt.xlabel('Year', fontsize=14, fontweight='bold')\n",
    "plt.ylabel('Obesity Prevalence (%)', fontsize=14, fontweight='bold')\n",
    "plt.title('Distribution of obesity prevalence between 2000 and 2015', fontsize=16, fontweight='bold')\n",
    "plt.gca().set_facecolor('lightyellow')\n",
    "plt.show()\n"
   ]
  },
  {
   "cell_type": "code",
   "execution_count": null,
   "id": "7f0118bc-e39d-41cb-a01c-f17821b9f0fc",
   "metadata": {},
   "outputs": [],
   "source": [
    "obesity_gdp_protein_lex_pop_2000_2015.loc[obesity_gdp_protein_lex_pop_2000_2015['Year']==2015].describe()"
   ]
  },
  {
   "cell_type": "markdown",
   "id": "61d22708-688a-4f8d-b457-01d171ba0ea3",
   "metadata": {},
   "source": [
    "## In 1990, how many countries had obesity prevalence rates below 24.9%"
   ]
  },
  {
   "cell_type": "code",
   "execution_count": null,
   "id": "e8aa5b72-d352-4b52-930b-855ffe76767c",
   "metadata": {},
   "outputs": [],
   "source": [
    "len(obesity_gdp_protein_lex_pop.loc[(obesity_gdp_protein_lex_pop['Obesity_Prevalence _both'] < 24.9) & (obesity_gdp_protein_lex_pop.Year == 1990)])"
   ]
  },
  {
   "cell_type": "code",
   "execution_count": null,
   "id": "cf751d0d-3a26-44fa-bf5e-f32fca07b405",
   "metadata": {},
   "outputs": [],
   "source": [
    "obesity_gdp_protein_lex_pop.loc[obesity_gdp_protein_lex_pop['Year']==2010].describe()"
   ]
  },
  {
   "cell_type": "markdown",
   "id": "2fb4ce28-e771-4020-96e1-461ae257d623",
   "metadata": {},
   "source": [
    "## In 2015, how many countries had obesity prevalence rates below 24.9%"
   ]
  },
  {
   "cell_type": "code",
   "execution_count": null,
   "id": "00eb7197-7c5c-4b64-8542-dc2b3348d7f9",
   "metadata": {},
   "outputs": [],
   "source": [
    "len(obesity_gdp_protein_lex_pop.loc[(obesity_gdp_protein_lex_pop['Obesity_Prevalence _both'] < 24.9) & (obesity_gdp_protein_lex_pop.Year == 2015)])"
   ]
  },
  {
   "cell_type": "code",
   "execution_count": null,
   "id": "6e131126-c805-438f-b5f6-53e4f03c5cf9",
   "metadata": {},
   "outputs": [],
   "source": []
  },
  {
   "cell_type": "markdown",
   "id": "137787f0-1889-4728-8857-2594b2bd080f",
   "metadata": {},
   "source": [
    "## How many countries had obesity prevalence rates greater than 30% in 1990"
   ]
  },
  {
   "cell_type": "code",
   "execution_count": null,
   "id": "1af18dd0-e3da-48af-890e-6bb1b9a9fcde",
   "metadata": {},
   "outputs": [],
   "source": [
    "len(obesity_gdp_protein_lex_pop.loc[(obesity_gdp_protein_lex_pop['Obesity_Prevalence _both'] > 30)  & (obesity_gdp_protein_lex_pop['Year'] == 1990)])"
   ]
  },
  {
   "cell_type": "markdown",
   "id": "03714338-d9d7-4f7e-a788-7e756dc8fec3",
   "metadata": {},
   "source": [
    "## How many countries had obesity prevalence rates greater than 30% in 2015"
   ]
  },
  {
   "cell_type": "code",
   "execution_count": null,
   "id": "eeebb431-dfb1-4e82-8cb2-c26d74d03b2c",
   "metadata": {},
   "outputs": [],
   "source": [
    "len(obesity_gdp_protein_lex_pop.loc[(obesity_gdp_protein_lex_pop['Obesity_Prevalence _both'] > 30)  & (obesity_gdp_protein_lex_pop['Year'] ==2015)])"
   ]
  },
  {
   "cell_type": "code",
   "execution_count": null,
   "id": "3e1a351b-448f-43ae-b588-d1685d298adc",
   "metadata": {},
   "outputs": [],
   "source": []
  },
  {
   "cell_type": "markdown",
   "id": "38a94881-f7c9-4550-837a-a3f0bde6e8ea",
   "metadata": {},
   "source": [
    "## 5.Which Five countries had the highest obesity rates in 2015"
   ]
  },
  {
   "cell_type": "markdown",
   "id": "fe339521-af81-4c54-ace0-d32f0220009c",
   "metadata": {},
   "source": [
    " ## How does the obesity prevalence change over time in the top five countries?"
   ]
  },
  {
   "cell_type": "code",
   "execution_count": null,
   "id": "404b8bc7-30c5-4413-afc9-52e5ea56d59b",
   "metadata": {},
   "outputs": [],
   "source": [
    "top_three_Ob_countries = obesity_gdp_protein_lex_pop_2000_2015.loc[obesity_gdp_protein_lex_pop_2000_2015.Year == 2015 ].sort_values('Obesity_Prevalence _both',ascending= False).head(5).Country.to_list()\n",
    "top_three_Ob_countries "
   ]
  },
  {
   "cell_type": "code",
   "execution_count": null,
   "id": "0a0795c2-fd58-4873-ba5c-2a7ca0ce58d6",
   "metadata": {},
   "outputs": [],
   "source": [
    "top_Three_obese_high_countries_2015 = obesity_gdp_protein_lex_pop.loc[obesity_gdp_protein_lex_pop.Country.isin(top_three_Ob_countries  )]\n"
   ]
  },
  {
   "cell_type": "code",
   "execution_count": null,
   "id": "6de85d0b-de0e-4478-8569-c420b698426a",
   "metadata": {},
   "outputs": [],
   "source": [
    "plt.figure(figsize=(7, 6))\n",
    "g = sns.FacetGrid(top_Three_obese_high_countries_2015, col=\"Country\", height=4 )\n",
    "g.map(sns.lineplot, \"Year\",\"Obesity_Prevalence _both\");"
   ]
  },
  {
   "cell_type": "markdown",
   "id": "35ad3d81-4fb1-4ed9-a8c0-fc218924136a",
   "metadata": {},
   "source": [
    " ## Obesity Prevalence vs GDP Per Capita For 2015 Only"
   ]
  },
  {
   "cell_type": "code",
   "execution_count": null,
   "id": "980863ca-879e-43e3-8281-66fc500b0da2",
   "metadata": {},
   "outputs": [],
   "source": [
    "Obesity_gdp_2015 =obesity_gdp_protein_lex_pop_2000_2015.loc[obesity_gdp_protein_lex_pop_2000_2015.Year== 2015]\n"
   ]
  },
  {
   "cell_type": "code",
   "execution_count": null,
   "id": "20ee9430-ac2d-44e4-b2de-9cf72e10e6b8",
   "metadata": {},
   "outputs": [],
   "source": [
    "fig, ax = plt.subplots(figsize=(10, 6))\n",
    "sns.regplot(\n",
    "    x=Obesity_gdp_2015[\"Gdp_ per_capita\"],\n",
    "    y=Obesity_gdp_2015[\"Obesity_Prevalence _both\"],color=\"Orange\",\n",
    "    line_kws={\"color\": \"black\"},\n",
    "     ci=None,\n",
    "    ax=ax\n",
    ")\n",
    "plt.xlabel('GDP per Capita',fontsize=14, fontweight='bold')\n",
    "plt.ylabel('Obesity Prevalence (%)',fontsize=14, fontweight='bold')\n",
    "plt.title('Comparison of Obesity Prevalence and GDP per Capita in 2015',fontsize=16, fontweight='bold')\n",
    "plt.gca().set_facecolor('lightyellow')\n",
    "plt.show()"
   ]
  },
  {
   "cell_type": "code",
   "execution_count": null,
   "id": "877923c6-e5d9-488f-a57a-38a43cebdab9",
   "metadata": {},
   "outputs": [],
   "source": [
    "corr = Obesity_gdp_2015['Gdp_ per_capita'].corr(Obesity_gdp_2015['Obesity_Prevalence _both'])\n",
    "corr"
   ]
  },
  {
   "cell_type": "code",
   "execution_count": null,
   "id": "0b381ca0-a34a-40cc-a412-399f69d08995",
   "metadata": {},
   "outputs": [],
   "source": []
  },
  {
   "cell_type": "markdown",
   "id": "5bb1ba35-e42b-433a-acae-cbb60686a695",
   "metadata": {},
   "source": [
    "## Obesity Prevalence vs Daily protein supply per person For 2015 only"
   ]
  },
  {
   "cell_type": "code",
   "execution_count": null,
   "id": "6ae33626-ccbd-43e1-9b1f-2814d51c945e",
   "metadata": {},
   "outputs": [],
   "source": [
    "fig, ax = plt.subplots(figsize=(10, 6))\n",
    "sns.regplot(\n",
    "    x=Obesity_gdp_2015[\"Daily protein supply per person\"],\n",
    "    y=Obesity_gdp_2015[\"Obesity_Prevalence _both\"],\n",
    "    color=\"Brown\",\n",
    "    line_kws={\"color\": \"black\"},\n",
    "    ci=None,\n",
    "    ax=ax\n",
    ")\n",
    "\n",
    "plt.xlabel('Daily Protein Supply per person', fontsize=14, fontweight='bold')\n",
    "plt.ylabel('Obesity Prevalence (%)', fontsize=14, fontweight='bold')\n",
    "plt.gca().set_facecolor('lightyellow')\n",
    "plt.title('Comparison of Obesity Prevalence and Daily protein supply per person in 2015', fontsize=16, fontweight='bold')\n",
    "plt.show()"
   ]
  },
  {
   "cell_type": "code",
   "execution_count": null,
   "id": "78d6e3b4-5109-4e2e-94b0-cfe2d5dc5ad3",
   "metadata": {},
   "outputs": [],
   "source": [
    "corr = Obesity_gdp_2015['Daily protein supply per person'].corr(Obesity_gdp_2015['Obesity_Prevalence _both'])\n",
    "corr"
   ]
  },
  {
   "cell_type": "markdown",
   "id": "e2dde618-5de7-4802-a791-a93192efadcf",
   "metadata": {},
   "source": [
    "## Obesity Prevalence vs Daily calorie supply per person For 2015 only"
   ]
  },
  {
   "cell_type": "code",
   "execution_count": null,
   "id": "9bf14124-6b26-4d0f-a635-7e6bbc3cd98a",
   "metadata": {},
   "outputs": [],
   "source": [
    "fig, ax = plt.subplots(figsize=(10, 6))\n",
    "sns.regplot(\n",
    "    x=Obesity_gdp_2015[\"Daily calorie supply per person\"],\n",
    "    y=Obesity_gdp_2015[\"Obesity_Prevalence _both\"],\n",
    "    color=\"Brown\",\n",
    "    line_kws={\"color\": \"black\"},\n",
    "    ci=None,\n",
    "    ax=ax\n",
    ")\n",
    "\n",
    "plt.xlabel('Daily calorie supply per person', fontsize=14, fontweight='bold')\n",
    "plt.ylabel('Obesity Prevalence (%)', fontsize=14, fontweight='bold')\n",
    "plt.gca().set_facecolor('lightyellow')\n",
    "plt.title('Comparison of Obesity Prevalence and Daily calorie supply per person in 2015', fontsize=16, fontweight='bold')\n",
    "plt.show()"
   ]
  },
  {
   "cell_type": "code",
   "execution_count": null,
   "id": "f16e778c-d814-48f9-a6b5-58e7fd455877",
   "metadata": {},
   "outputs": [],
   "source": [
    "corr = Obesity_gdp_2015['Daily calorie supply per person'].corr(Obesity_gdp_2015['Obesity_Prevalence _both'])\n",
    "corr"
   ]
  },
  {
   "cell_type": "code",
   "execution_count": null,
   "id": "7f804513-978f-4c66-ac2d-b98ab45b35f7",
   "metadata": {},
   "outputs": [],
   "source": []
  },
  {
   "cell_type": "markdown",
   "id": "3f3ead48-423a-4567-a24c-ea55e2960475",
   "metadata": {},
   "source": [
    "## Obesity Prevalence vs Life Expectancy For 2015"
   ]
  },
  {
   "cell_type": "code",
   "execution_count": null,
   "id": "2227c5e8-b9fe-4817-b9ef-476b3efedabd",
   "metadata": {},
   "outputs": [],
   "source": [
    "fig, ax = plt.subplots(figsize=(10, 6))\n",
    "sns.regplot(\n",
    "    x=Obesity_gdp_2015[\"Life_expectancy \"],\n",
    "    y=Obesity_gdp_2015[\"Obesity_Prevalence _both\"],\n",
    "    color=\"Brown\",\n",
    "    line_kws={\"color\": \"black\"},\n",
    "    ci=None,\n",
    "    ax=ax\n",
    ")\n",
    "\n",
    "plt.xlabel('Life Expectancy ', fontsize=14, fontweight='bold')\n",
    "plt.ylabel('Obesity Prevalence (%)', fontsize=14, fontweight='bold')\n",
    "plt.gca().set_facecolor('lightyellow')\n",
    "plt.title('Comparison of Obesity Prevalence and Life Expectancy in 2015', fontsize=16, fontweight='bold')\n",
    "plt.show()"
   ]
  },
  {
   "cell_type": "code",
   "execution_count": null,
   "id": "8a75b614-f0ac-40e1-84b1-652c67712dae",
   "metadata": {},
   "outputs": [],
   "source": [
    "corr = Obesity_gdp_2015['Life_expectancy '].corr(Obesity_gdp_2015['Obesity_Prevalence _both'])\n",
    "corr"
   ]
  },
  {
   "cell_type": "markdown",
   "id": "e9b87d4a-2f15-4626-b89b-1b385ad8e3b4",
   "metadata": {},
   "source": [
    "## Obesity Prevalance Vs Population For 2015"
   ]
  },
  {
   "cell_type": "code",
   "execution_count": null,
   "id": "34392ee6-c4e4-4dbe-80d1-7680c4b91bd9",
   "metadata": {},
   "outputs": [],
   "source": [
    "fig, ax = plt.subplots(figsize=(10, 6))\n",
    "sns.regplot(\n",
    "    x=Obesity_gdp_2015[\"Population\"],\n",
    "    y=Obesity_gdp_2015[\"Obesity_Prevalence _both\"],\n",
    "    color=\"Brown\",\n",
    "    line_kws={\"color\": \"black\"},\n",
    "    ci=None,\n",
    "    ax=ax\n",
    ")\n",
    "\n",
    "plt.xlabel('Population', fontsize=14, fontweight='bold')\n",
    "plt.ylabel('Obesity Prevalence (%)', fontsize=14, fontweight='bold')\n",
    "plt.gca().set_facecolor('lightyellow')\n",
    "plt.title('Comparison of Obesity Prevalence and Population in 2015', fontsize=16, fontweight='bold')\n",
    "plt.ticklabel_format(style='plain', axis='x')\n",
    "plt.show()"
   ]
  },
  {
   "cell_type": "code",
   "execution_count": null,
   "id": "58551566-7c74-4fe7-88ad-21c7ebf72157",
   "metadata": {},
   "outputs": [],
   "source": [
    "corr = Obesity_gdp_2015['Population'].corr(Obesity_gdp_2015['Obesity_Prevalence _both'])\n",
    "corr"
   ]
  },
  {
   "cell_type": "code",
   "execution_count": null,
   "id": "10e937f0-8479-413f-94a5-40f3df1f87a4",
   "metadata": {},
   "outputs": [],
   "source": [
    "columns = [\n",
    "    'Obesity_Prevalence _both', \n",
    "    'Gdp_ per_capita', \n",
    "    'Daily protein supply per person', \n",
    "    'Life_expectancy ', \n",
    "    'Daily calorie supply per person', \n",
    "    'Population'\n",
    "]\n",
    "correlation_matrix = Obesity_gdp_2015[columns].corr()\n",
    "correlation_matrix"
   ]
  },
  {
   "cell_type": "markdown",
   "id": "60b680a5-d57c-49c2-a0e0-e62b6ace7b35",
   "metadata": {},
   "source": [
    "## Top5 Countries across all years "
   ]
  },
  {
   "cell_type": "code",
   "execution_count": null,
   "id": "d1968fbb-6a93-4aaa-9c54-c4c61bdfb3e3",
   "metadata": {},
   "outputs": [],
   "source": [
    " obesity_gdp_protein_lex_pop"
   ]
  },
  {
   "cell_type": "code",
   "execution_count": null,
   "id": "f664e86d-f0be-47ca-80ce-b86b13f0e1ca",
   "metadata": {},
   "outputs": [],
   "source": [
    " obesity_gdp_protein_lex_pop.columns"
   ]
  },
  {
   "cell_type": "markdown",
   "id": "1b0521e7-5420-4a1b-9b88-69778c2c1d3a",
   "metadata": {},
   "source": [
    "## For 1990"
   ]
  },
  {
   "cell_type": "code",
   "execution_count": null,
   "id": "01c9cc62-fa35-4455-8f4f-417e00fce8e7",
   "metadata": {},
   "outputs": [],
   "source": [
    "Obesity_df_1990  = obesity_gdp_protein_lex_pop.loc[obesity_gdp_protein_lex_pop.Year == 1990]\n",
    "Obesity_df_1990.sort_values(by = \"Obesity_Prevalence _both\" , ascending =False).head(5)"
   ]
  },
  {
   "cell_type": "code",
   "execution_count": null,
   "id": "f8070787-b967-4c86-870a-02f56f1ed46e",
   "metadata": {},
   "outputs": [],
   "source": []
  },
  {
   "cell_type": "markdown",
   "id": "fc0cdb6a-ff00-4662-85ef-d2a4cc4ea3d9",
   "metadata": {},
   "source": [
    "## Top 5 and bottom 5 countries with Obesity Prevalance across all years "
   ]
  },
  {
   "cell_type": "code",
   "execution_count": null,
   "id": "69ee311c-38eb-40b7-8f1e-2ef7be998146",
   "metadata": {},
   "outputs": [],
   "source": [
    "Top_ten_all= obesity_gdp_protein_lex_pop.groupby('Country')['Obesity_Prevalence _both'].mean().reset_index().sort_values('Obesity_Prevalence _both',ascending=False).head(5)\n",
    "Top_ten_all"
   ]
  },
  {
   "cell_type": "code",
   "execution_count": null,
   "id": "282883df-a944-4ca1-965f-362ecbcfd311",
   "metadata": {},
   "outputs": [],
   "source": [
    "plt.figure(figsize=(10, 6))\n",
    "sns.barplot(x=Top_ten_all.Country, y=Top_ten_all['Obesity_Prevalence _both'],color='purple')\n",
    "plt.title('Top 5 Countries with Highest Obesity Prevalence (1990-2016)', fontsize=16)\n",
    "plt.xlabel('Country', fontsize=12)\n",
    "plt.ylabel('Obesity Prevalence (%)', fontsize=12)\n",
    "plt.show()"
   ]
  },
  {
   "cell_type": "code",
   "execution_count": null,
   "id": "247865fc-3ac7-4dfe-a54a-fc87879b129b",
   "metadata": {},
   "outputs": [],
   "source": []
  },
  {
   "cell_type": "code",
   "execution_count": null,
   "id": "dab69364-c582-4850-ae17-8debe8171d5c",
   "metadata": {},
   "outputs": [],
   "source": [
    "Bottom_ten_all = obesity_gdp_protein_lex_pop.groupby('Country')['Obesity_Prevalence _both'].mean().reset_index().sort_values('Obesity_Prevalence _both',ascending=False).tail(5)\n",
    "Bottom_ten_all "
   ]
  },
  {
   "cell_type": "code",
   "execution_count": null,
   "id": "7684c934-df8b-489a-9fd3-056de2edeeb3",
   "metadata": {},
   "outputs": [],
   "source": [
    "plt.figure(figsize=(10, 6))\n",
    "sns.barplot(x=Bottom_ten_all.Country, y=Bottom_ten_all['Obesity_Prevalence _both'],color='purple')\n",
    "plt.title('Bottom 5 Countries with Highest Obesity Prevalence (1990-2016)', fontsize=16)\n",
    "plt.xlabel('Country', fontsize=12)\n",
    "plt.ylabel('Obesity Prevalence (%)', fontsize=12)\n",
    "plt.show()"
   ]
  },
  {
   "cell_type": "code",
   "execution_count": null,
   "id": "f8aa51ec-578c-42a0-877d-113189cb1c73",
   "metadata": {},
   "outputs": [],
   "source": []
  },
  {
   "cell_type": "markdown",
   "id": "0030a0e1-0947-44b6-a843-dabca9abcb30",
   "metadata": {},
   "source": [
    "## Top 5 & Bottom 5 Countries for each year\n",
    "## 1990,1991,1992,1993,1994,1995,1996,1997,1998,1999,2000,\n",
    "## 2001,2002,2003,2004,2005,2006,2007,2008,2009,2010,2011,2012,2013,2014,2015,2016"
   ]
  },
  {
   "cell_type": "code",
   "execution_count": null,
   "id": "6154a7cd-ab37-4d38-9fd5-b12a01821a5a",
   "metadata": {},
   "outputs": [],
   "source": [
    "Top_Obesity_df_1990  = obesity_gdp_protein_lex_pop.loc[obesity_gdp_protein_lex_pop.Year == 1990] \n",
    "Top_Obesity_df_1990 = Top_Obesity_df_1990.sort_values(by = \"Obesity_Prevalence _both\" , ascending =False).head(5)\n",
    "Top_Obesity_df_1990"
   ]
  },
  {
   "cell_type": "code",
   "execution_count": null,
   "id": "91e0486f-210b-4108-b837-9337996e02e2",
   "metadata": {},
   "outputs": [],
   "source": [
    "plt.figure(figsize=(10, 6))\n",
    "sns.barplot(x=Top_Obesity_df_1990.Country, y=Top_Obesity_df_1990['Obesity_Prevalence _both'],color='purple')\n",
    "plt.title('Top 5 Countries with Highest Obesity Prevalence (1990)', fontsize=16)\n",
    "plt.xlabel('Country', fontsize=12)\n",
    "plt.ylabel('Obesity Prevalence (%)', fontsize=12)\n",
    "plt.show()"
   ]
  },
  {
   "cell_type": "code",
   "execution_count": null,
   "id": "131a443c-068f-4bcb-8160-8cd346d752d5",
   "metadata": {},
   "outputs": [],
   "source": []
  },
  {
   "cell_type": "code",
   "execution_count": null,
   "id": "162f2ec9-ccf2-45fd-a102-fa8974a1f9fd",
   "metadata": {},
   "outputs": [],
   "source": [
    "Bottom_Obesity_df_1990  = obesity_gdp_protein_lex_pop.loc[obesity_gdp_protein_lex_pop.Year == 1990] \n",
    "Bottom_Obesity_df_1990 = Bottom_Obesity_df_1990.sort_values(by = \"Obesity_Prevalence _both\" , ascending =False).tail(5)\n",
    "Bottom_Obesity_df_1990"
   ]
  },
  {
   "cell_type": "code",
   "execution_count": null,
   "id": "69da7aca-8ca3-4dae-9324-cfc8e3379634",
   "metadata": {},
   "outputs": [],
   "source": []
  },
  {
   "cell_type": "code",
   "execution_count": null,
   "id": "87eea922-e274-42a7-aacb-2e0e02655a3d",
   "metadata": {},
   "outputs": [],
   "source": [
    "plt.figure(figsize=(10, 6))\n",
    "sns.barplot(x=Bottom_Obesity_df_1990.Country, y=Bottom_Obesity_df_1990['Obesity_Prevalence _both'],color='purple')\n",
    "plt.title('Bottom 5 Countries with  Lowest  Obesity Prevalence (1990)', fontsize=16)\n",
    "plt.xlabel('Country', fontsize=12)\n",
    "plt.ylabel('Obesity Prevalence (%)', fontsize=12)\n",
    "plt.show()"
   ]
  },
  {
   "cell_type": "code",
   "execution_count": null,
   "id": "0e6823e6-772d-4ddc-93ad-c8755d110cf6",
   "metadata": {},
   "outputs": [],
   "source": []
  },
  {
   "cell_type": "code",
   "execution_count": null,
   "id": "7892502f-257a-4aea-83c4-b7edfe9a95f5",
   "metadata": {},
   "outputs": [],
   "source": [
    "Top_Obesity_df_1991  = obesity_gdp_protein_lex_pop.loc[obesity_gdp_protein_lex_pop.Year == 1991] \n",
    "Top_Obesity_df_1991= Top_Obesity_df_1991.sort_values(by = \"Obesity_Prevalence _both\" , ascending =False).head(5)\n",
    "Top_Obesity_df_1991"
   ]
  },
  {
   "cell_type": "code",
   "execution_count": null,
   "id": "3366c5b5-a270-4b58-8e14-2573a1bf1d07",
   "metadata": {},
   "outputs": [],
   "source": [
    "plt.figure(figsize=(10, 6))\n",
    "sns.barplot(x=Top_Obesity_df_1991.Country, y=Top_Obesity_df_1991['Obesity_Prevalence _both'],color='purple')\n",
    "plt.title('Top 5 Countries with Highest Obesity Prevalence (1991)', fontsize=16)\n",
    "plt.xlabel('Country', fontsize=12)\n",
    "plt.ylabel('Obesity Prevalence (%)', fontsize=12)\n",
    "plt.show()"
   ]
  },
  {
   "cell_type": "code",
   "execution_count": null,
   "id": "14c909f9-007c-4fee-9ffb-381c1cf511fa",
   "metadata": {},
   "outputs": [],
   "source": []
  },
  {
   "cell_type": "code",
   "execution_count": null,
   "id": "ba46f44b-4a87-4c09-9d7a-2a09a58cf3eb",
   "metadata": {},
   "outputs": [],
   "source": [
    "Bottom_Obesity_df_1991  = obesity_gdp_protein_lex_pop.loc[obesity_gdp_protein_lex_pop.Year == 1991] \n",
    "Bottom_Obesity_df_1991  = Bottom_Obesity_df_1991.sort_values(by = \"Obesity_Prevalence _both\" , ascending =False).tail(5)\n",
    "Bottom_Obesity_df_1991 "
   ]
  },
  {
   "cell_type": "code",
   "execution_count": null,
   "id": "89d24a5d-bd86-4479-b458-06b38c1d10fb",
   "metadata": {},
   "outputs": [],
   "source": []
  },
  {
   "cell_type": "code",
   "execution_count": null,
   "id": "75158e40-c880-4cdd-9995-17e18570363b",
   "metadata": {},
   "outputs": [],
   "source": [
    "plt.figure(figsize=(10, 6))\n",
    "sns.barplot(x=Bottom_Obesity_df_1991.Country, y=Bottom_Obesity_df_1991['Obesity_Prevalence _both'],color='purple')\n",
    "plt.title('Bottom 5 Countries with  Lowest  Obesity Prevalence (1991)', fontsize=16)\n",
    "plt.xlabel('Country', fontsize=12)\n",
    "plt.ylabel('Obesity Prevalence (%)', fontsize=12)\n",
    "plt.show()"
   ]
  },
  {
   "cell_type": "code",
   "execution_count": null,
   "id": "662d3f7f-1e1c-42d6-99f6-9c483a4b834e",
   "metadata": {},
   "outputs": [],
   "source": []
  },
  {
   "cell_type": "code",
   "execution_count": null,
   "id": "92261ee1-3c69-48a6-afd2-6cb9f23bb489",
   "metadata": {},
   "outputs": [],
   "source": [
    "Top_Obesity_df_1992 = obesity_gdp_protein_lex_pop.loc[obesity_gdp_protein_lex_pop.Year == 1992]\n",
    "Top_Obesity_df_1992  = Top_Obesity_df_1992.sort_values(by = \"Obesity_Prevalence _both\" , ascending =False).head(5)\n",
    "Top_Obesity_df_1992 "
   ]
  },
  {
   "cell_type": "code",
   "execution_count": null,
   "id": "27968277-b7d5-4629-b82f-ac002337ae64",
   "metadata": {},
   "outputs": [],
   "source": []
  },
  {
   "cell_type": "code",
   "execution_count": null,
   "id": "d4b0bca1-9bae-4137-926e-45e1b563ea71",
   "metadata": {},
   "outputs": [],
   "source": []
  },
  {
   "cell_type": "code",
   "execution_count": null,
   "id": "d8027523-e483-4aa0-a4ef-1de5dbca7ad1",
   "metadata": {},
   "outputs": [],
   "source": [
    "plt.figure(figsize=(10, 6))\n",
    "sns.barplot(x=Top_Obesity_df_1992.Country, y=Top_Obesity_df_1992['Obesity_Prevalence _both'],color='purple')\n",
    "plt.title('Top 5 Countries with Highest Obesity Prevalence (1992)', fontsize=16)\n",
    "plt.xlabel('Country', fontsize=12)\n",
    "plt.ylabel('Obesity Prevalence (%)', fontsize=12)\n",
    "plt.show()"
   ]
  },
  {
   "cell_type": "code",
   "execution_count": null,
   "id": "71588239-0a59-48ea-8a48-11531d5d2a6d",
   "metadata": {},
   "outputs": [],
   "source": []
  },
  {
   "cell_type": "code",
   "execution_count": null,
   "id": "e44f2588-6f90-4260-9be5-bfb230394088",
   "metadata": {},
   "outputs": [],
   "source": []
  },
  {
   "cell_type": "code",
   "execution_count": null,
   "id": "cb97f135-2592-43e8-848e-df23d3f9bd82",
   "metadata": {},
   "outputs": [],
   "source": [
    "Bottom_Obesity_df_1992 = obesity_gdp_protein_lex_pop.loc[obesity_gdp_protein_lex_pop.Year == 1992].sort_values(by = \"Obesity_Prevalence _both\" , ascending =False).tail(5)\n",
    "Bottom_Obesity_df_1992"
   ]
  },
  {
   "cell_type": "code",
   "execution_count": null,
   "id": "044b9ad4-493d-4f13-99f1-43d5cdc26792",
   "metadata": {},
   "outputs": [],
   "source": []
  },
  {
   "cell_type": "code",
   "execution_count": null,
   "id": "784ddfdd-587a-437d-a26c-d1eda71d232a",
   "metadata": {},
   "outputs": [],
   "source": [
    "plt.figure(figsize=(10, 6))\n",
    "sns.barplot(x=Bottom_Obesity_df_1992.Country, y=Bottom_Obesity_df_1992['Obesity_Prevalence _both'],color='purple')\n",
    "plt.title('Bottom 5 Countries with  Lowest  Obesity Prevalence (1992)', fontsize=16)\n",
    "plt.xlabel('Country', fontsize=12)\n",
    "plt.ylabel('Obesity Prevalence (%)', fontsize=12)\n",
    "plt.show()"
   ]
  },
  {
   "cell_type": "code",
   "execution_count": null,
   "id": "91b52c97-986c-45f1-b0f4-c60a2297e627",
   "metadata": {},
   "outputs": [],
   "source": []
  },
  {
   "cell_type": "code",
   "execution_count": null,
   "id": "744ebbcc-c639-4062-b099-9d294f9990e1",
   "metadata": {},
   "outputs": [],
   "source": [
    "Top_Obesity_df_1993 = obesity_gdp_protein_lex_pop.loc[obesity_gdp_protein_lex_pop.Year == 1993]\n",
    "Top_Obesity_df_1993= Top_Obesity_df_1993.sort_values(by = \"Obesity_Prevalence _both\" , ascending =False).head(5)\n",
    "Top_Obesity_df_1993"
   ]
  },
  {
   "cell_type": "code",
   "execution_count": null,
   "id": "d8078ea7-914e-4f1e-b053-a8d63e180665",
   "metadata": {},
   "outputs": [],
   "source": []
  },
  {
   "cell_type": "code",
   "execution_count": null,
   "id": "f7b566e4-9063-4814-9204-84356ba0cbc5",
   "metadata": {},
   "outputs": [],
   "source": [
    "plt.figure(figsize=(10, 6))\n",
    "sns.barplot(x=Top_Obesity_df_1993.Country, y=Top_Obesity_df_1993['Obesity_Prevalence _both'],color='purple')\n",
    "plt.title('Top 5 Countries with Highest Obesity Prevalence (1993)', fontsize=16)\n",
    "plt.xlabel('Country', fontsize=12)\n",
    "plt.ylabel('Obesity Prevalence (%)', fontsize=12)\n",
    "plt.show()"
   ]
  },
  {
   "cell_type": "code",
   "execution_count": null,
   "id": "4d4d3e47-4d08-4fa2-8eff-ae3f06a63522",
   "metadata": {},
   "outputs": [],
   "source": []
  },
  {
   "cell_type": "code",
   "execution_count": null,
   "id": "eb1a807a-cb93-4fbe-bcbb-f3afc9a83a05",
   "metadata": {},
   "outputs": [],
   "source": [
    "Bottom_Obesity_df_1993 = obesity_gdp_protein_lex_pop.loc[obesity_gdp_protein_lex_pop.Year == 1993]\n",
    "Bottom_Obesity_df_1993 = Bottom_Obesity_df_1993.sort_values(by = \"Obesity_Prevalence _both\" , ascending =False).tail(5)\n",
    "Bottom_Obesity_df_1993"
   ]
  },
  {
   "cell_type": "code",
   "execution_count": null,
   "id": "f6f56d4c-537e-4ffd-a5f9-153380a355ed",
   "metadata": {},
   "outputs": [],
   "source": [
    "plt.figure(figsize=(10, 6))\n",
    "sns.barplot(x=Bottom_Obesity_df_1993.Country, y=Bottom_Obesity_df_1993['Obesity_Prevalence _both'],color='purple')\n",
    "plt.title('Bottom 5 Countries with  Lowest  Obesity Prevalence (1993)', fontsize=16)\n",
    "plt.xlabel('Country', fontsize=12)\n",
    "plt.ylabel('Obesity Prevalence (%)', fontsize=12)\n",
    "plt.show()"
   ]
  },
  {
   "cell_type": "code",
   "execution_count": null,
   "id": "20fd9397-6edf-4a11-98ce-1ada6119976c",
   "metadata": {},
   "outputs": [],
   "source": []
  },
  {
   "cell_type": "code",
   "execution_count": null,
   "id": "c92ff141-d0d9-41d2-80d9-76cdedb23340",
   "metadata": {},
   "outputs": [],
   "source": [
    "Top_Obesity_df_1994 = obesity_gdp_protein_lex_pop.loc[obesity_gdp_protein_lex_pop.Year == 1994]\n",
    "Top_Obesity_df_1994 = Top_Obesity_df_1994.sort_values(by = \"Obesity_Prevalence _both\" , ascending =False).head(5)\n",
    "Top_Obesity_df_1994"
   ]
  },
  {
   "cell_type": "code",
   "execution_count": null,
   "id": "434d674a-5613-4e35-8d1d-2c32fac5bce2",
   "metadata": {},
   "outputs": [],
   "source": []
  },
  {
   "cell_type": "code",
   "execution_count": null,
   "id": "092d4329-aaf5-4eb8-b437-dcc60d6d0318",
   "metadata": {},
   "outputs": [],
   "source": []
  },
  {
   "cell_type": "code",
   "execution_count": null,
   "id": "c35da36c-89de-4c44-be74-330ef8b91fcc",
   "metadata": {},
   "outputs": [],
   "source": [
    "plt.figure(figsize=(10, 6))\n",
    "sns.barplot(x=Top_Obesity_df_1994.Country, y=Top_Obesity_df_1994['Obesity_Prevalence _both'],color='purple')\n",
    "plt.title('Top 5 Countries with Highest Obesity Prevalence (1994)', fontsize=16)\n",
    "plt.xlabel('Country', fontsize=12)\n",
    "plt.ylabel('Obesity Prevalence (%)', fontsize=12)\n",
    "plt.show()"
   ]
  },
  {
   "cell_type": "code",
   "execution_count": null,
   "id": "d819ce44-4b7a-48fd-a704-0e0c10155180",
   "metadata": {},
   "outputs": [],
   "source": []
  },
  {
   "cell_type": "code",
   "execution_count": null,
   "id": "c895e560-cce3-4cdc-bbf1-b00994c33ec9",
   "metadata": {},
   "outputs": [],
   "source": [
    "Bottom_Obesity_df_1994 = obesity_gdp_protein_lex_pop.loc[obesity_gdp_protein_lex_pop.Year == 1994].sort_values(by = \"Obesity_Prevalence _both\" , ascending =False).tail(5)\n",
    "Bottom_Obesity_df_1994"
   ]
  },
  {
   "cell_type": "code",
   "execution_count": null,
   "id": "35d25d8b-7d84-4a32-a8e0-1d2ee636af2f",
   "metadata": {},
   "outputs": [],
   "source": []
  },
  {
   "cell_type": "code",
   "execution_count": null,
   "id": "708be339-ac8d-4883-8637-2e9654173060",
   "metadata": {},
   "outputs": [],
   "source": [
    "plt.figure(figsize=(10, 6))\n",
    "sns.barplot(x=Bottom_Obesity_df_1994.Country, y=Bottom_Obesity_df_1994['Obesity_Prevalence _both'],color='purple')\n",
    "plt.title('Bottom 5 Countries with  Lowest  Obesity Prevalence (1994)', fontsize=16)\n",
    "plt.xlabel('Country', fontsize=12)\n",
    "plt.ylabel('Obesity Prevalence (%)', fontsize=12)\n",
    "plt.show()"
   ]
  },
  {
   "cell_type": "code",
   "execution_count": null,
   "id": "911d90dc-aa5f-4283-8730-9b858a8dea08",
   "metadata": {},
   "outputs": [],
   "source": []
  },
  {
   "cell_type": "code",
   "execution_count": null,
   "id": "6a39e38e-83ad-4bc0-929e-43fa8eea7c32",
   "metadata": {},
   "outputs": [],
   "source": [
    "Top_Obesity_df_1995  = obesity_gdp_protein_lex_pop.loc[obesity_gdp_protein_lex_pop.Year == 1995]\n",
    "Top_Obesity_df_1995  = Top_Obesity_df_1995.sort_values(by = \"Obesity_Prevalence _both\" , ascending =False).head(5)\n",
    "Top_Obesity_df_1995 "
   ]
  },
  {
   "cell_type": "code",
   "execution_count": null,
   "id": "659ed7c7-5c7f-4d05-b8d2-d0abfc0c2455",
   "metadata": {},
   "outputs": [],
   "source": []
  },
  {
   "cell_type": "code",
   "execution_count": null,
   "id": "bf4901f6-851d-47c0-b54f-b68bcfef9620",
   "metadata": {},
   "outputs": [],
   "source": []
  },
  {
   "cell_type": "code",
   "execution_count": null,
   "id": "a6562ee1-9a48-463b-a81d-1352a21d04f4",
   "metadata": {},
   "outputs": [],
   "source": [
    "plt.figure(figsize=(10, 6))\n",
    "sns.barplot(x=Top_Obesity_df_1995.Country, y=Top_Obesity_df_1995['Obesity_Prevalence _both'],color='purple')\n",
    "plt.title('Top 5 Countries with Highest Obesity Prevalence (1995)', fontsize=16)\n",
    "plt.xlabel('Country', fontsize=12)\n",
    "plt.ylabel('Obesity Prevalence (%)', fontsize=12)\n",
    "plt.show()"
   ]
  },
  {
   "cell_type": "code",
   "execution_count": null,
   "id": "44d187a0-6211-453f-96dc-e6199a9f8567",
   "metadata": {},
   "outputs": [],
   "source": []
  },
  {
   "cell_type": "code",
   "execution_count": null,
   "id": "bd76c3cd-5eac-4198-946f-1c869ea1d821",
   "metadata": {},
   "outputs": [],
   "source": [
    "Bottom_Obesity_df_1995 = obesity_gdp_protein_lex_pop.loc[obesity_gdp_protein_lex_pop.Year == 1995]\n",
    "Bottom_Obesity_df_1995  = Bottom_Obesity_df_1995.sort_values(by = \"Obesity_Prevalence _both\" , ascending =False).tail(5)\n",
    "Bottom_Obesity_df_1995 "
   ]
  },
  {
   "cell_type": "code",
   "execution_count": null,
   "id": "fbb68235-2199-4f53-94e4-a9ee5217e09a",
   "metadata": {},
   "outputs": [],
   "source": [
    "plt.figure(figsize=(10, 6))\n",
    "sns.barplot(x=Bottom_Obesity_df_1995.Country, y=Bottom_Obesity_df_1995['Obesity_Prevalence _both'],color='purple')\n",
    "plt.title('Bottom 5 Countries with  Lowest  Obesity Prevalence (1995)', fontsize=16)\n",
    "plt.xlabel('Country', fontsize=12)\n",
    "plt.ylabel('Obesity Prevalence (%)', fontsize=12)\n",
    "plt.show()"
   ]
  },
  {
   "cell_type": "code",
   "execution_count": null,
   "id": "766a80e0-fd56-476a-bd62-bdef00b41ea5",
   "metadata": {},
   "outputs": [],
   "source": []
  },
  {
   "cell_type": "code",
   "execution_count": null,
   "id": "606f68f2-244a-4946-8851-d0b9191af539",
   "metadata": {},
   "outputs": [],
   "source": [
    "Top_Obesity_df_1996  = obesity_gdp_protein_lex_pop.loc[obesity_gdp_protein_lex_pop.Year == 1996]\n",
    "Top_Obesity_df_1996  = Top_Obesity_df_1996.sort_values(by = \"Obesity_Prevalence _both\" , ascending =False).head(5)\n",
    "Top_Obesity_df_1996 "
   ]
  },
  {
   "cell_type": "code",
   "execution_count": null,
   "id": "d1168ca9-e3c1-45ac-80d3-a644e8b2f82e",
   "metadata": {},
   "outputs": [],
   "source": [
    "plt.figure(figsize=(10, 6))\n",
    "sns.barplot(x=Top_Obesity_df_1996.Country, y=Top_Obesity_df_1996['Obesity_Prevalence _both'],color='purple')\n",
    "plt.title('Top 5 Countries with Highest Obesity Prevalence (1996)', fontsize=16)\n",
    "plt.xlabel('Country', fontsize=12)\n",
    "plt.ylabel('Obesity Prevalence (%)', fontsize=12)\n",
    "plt.show()"
   ]
  },
  {
   "cell_type": "code",
   "execution_count": null,
   "id": "35dfa0c9-aee3-4dfb-9e46-2edb595c5aef",
   "metadata": {},
   "outputs": [],
   "source": []
  },
  {
   "cell_type": "code",
   "execution_count": null,
   "id": "cd913cd9-76d2-4f73-a158-e5d9914c3eeb",
   "metadata": {},
   "outputs": [],
   "source": [
    "Bottom_Obesity_df_1996 = obesity_gdp_protein_lex_pop.loc[obesity_gdp_protein_lex_pop.Year == 1996]\n",
    "Bottom_Obesity_df_1996 = Bottom_Obesity_df_1996.sort_values(by = \"Obesity_Prevalence _both\" , ascending =False).tail(5)\n",
    "Bottom_Obesity_df_1996"
   ]
  },
  {
   "cell_type": "code",
   "execution_count": null,
   "id": "b575e2b9-1c9a-4fba-9a7a-a6cd61ab1f80",
   "metadata": {},
   "outputs": [],
   "source": [
    "plt.figure(figsize=(10, 6))\n",
    "sns.barplot(x=Bottom_Obesity_df_1996.Country, y=Bottom_Obesity_df_1996['Obesity_Prevalence _both'],color='purple')\n",
    "plt.title('Bottom 5 Countries with  Lowest  Obesity Prevalence (1996)', fontsize=16)\n",
    "plt.xlabel('Country', fontsize=12)\n",
    "plt.ylabel('Obesity Prevalence (%)', fontsize=12)\n",
    "plt.show()"
   ]
  },
  {
   "cell_type": "code",
   "execution_count": null,
   "id": "79e0770e-7ed9-4404-ad13-56c098264e0b",
   "metadata": {},
   "outputs": [],
   "source": []
  },
  {
   "cell_type": "code",
   "execution_count": null,
   "id": "127173be-4217-43e8-8dea-e887a1e33fca",
   "metadata": {},
   "outputs": [],
   "source": [
    "Top_Obesity_df_1997  = obesity_gdp_protein_lex_pop.loc[obesity_gdp_protein_lex_pop.Year == 1997]\n",
    "Top_Obesity_df_1997 = Top_Obesity_df_1997.sort_values(by = \"Obesity_Prevalence _both\" , ascending =False).head(5)\n",
    "Top_Obesity_df_1997"
   ]
  },
  {
   "cell_type": "code",
   "execution_count": null,
   "id": "07d0878b-9f6d-4967-aac8-08bd51dea0c4",
   "metadata": {},
   "outputs": [],
   "source": [
    "plt.figure(figsize=(10, 6))\n",
    "sns.barplot(x=Top_Obesity_df_1997.Country, y=Top_Obesity_df_1997['Obesity_Prevalence _both'],color='purple')\n",
    "plt.title('Top 5 Countries with Highest Obesity Prevalence (1997)', fontsize=16)\n",
    "plt.xlabel('Country', fontsize=12)\n",
    "plt.ylabel('Obesity Prevalence (%)', fontsize=12)\n",
    "plt.show()"
   ]
  },
  {
   "cell_type": "code",
   "execution_count": null,
   "id": "1f42066c-5e0d-41f8-b10c-ca3a8438154f",
   "metadata": {},
   "outputs": [],
   "source": []
  },
  {
   "cell_type": "code",
   "execution_count": null,
   "id": "bbfad055-43fc-4e3d-90fd-478fb8fe3957",
   "metadata": {},
   "outputs": [],
   "source": [
    "Bottom_Obesity_df_1997 = obesity_gdp_protein_lex_pop.loc[obesity_gdp_protein_lex_pop.Year == 1997]\n",
    "Bottom_Obesity_df_1997= Bottom_Obesity_df_1997.sort_values(by = \"Obesity_Prevalence _both\" , ascending =False).tail(5)\n",
    "Bottom_Obesity_df_1997"
   ]
  },
  {
   "cell_type": "code",
   "execution_count": null,
   "id": "1af7fb40-1cd1-4787-b7c2-e646694a7a8e",
   "metadata": {},
   "outputs": [],
   "source": [
    "plt.figure(figsize=(10, 6))\n",
    "sns.barplot(x=Bottom_Obesity_df_1997.Country, y=Bottom_Obesity_df_1997['Obesity_Prevalence _both'],color='purple')\n",
    "plt.title('Bottom 5 Countries with  Lowest  Obesity Prevalence (1997)', fontsize=16)\n",
    "plt.xlabel('Country', fontsize=12)\n",
    "plt.ylabel('Obesity Prevalence (%)', fontsize=12)\n",
    "plt.show()"
   ]
  },
  {
   "cell_type": "code",
   "execution_count": null,
   "id": "ae3121e9-ee14-4d51-9e01-471ab442c465",
   "metadata": {},
   "outputs": [],
   "source": []
  },
  {
   "cell_type": "code",
   "execution_count": null,
   "id": "8d0b06fa-d6e7-4d6b-9f6b-5b392c6d269c",
   "metadata": {},
   "outputs": [],
   "source": [
    "Top_Obesity_df_1998  = obesity_gdp_protein_lex_pop.loc[obesity_gdp_protein_lex_pop.Year == 1998]\n",
    "Top_Obesity_df_1998  = Top_Obesity_df_1998.sort_values(by = \"Obesity_Prevalence _both\" , ascending =False).head(5)\n",
    "Top_Obesity_df_1998 "
   ]
  },
  {
   "cell_type": "code",
   "execution_count": null,
   "id": "77ca7172-9a46-4dc4-a4d2-a0a34bdba2af",
   "metadata": {},
   "outputs": [],
   "source": [
    "plt.figure(figsize=(10, 6))\n",
    "sns.barplot(x=Top_Obesity_df_1998.Country, y=Top_Obesity_df_1998['Obesity_Prevalence _both'],color='purple')\n",
    "plt.title('Top 5 Countries with Highest Obesity Prevalence (1998)', fontsize=16)\n",
    "plt.xlabel('Country', fontsize=12)\n",
    "plt.ylabel('Obesity Prevalence (%)', fontsize=12)\n",
    "plt.show()"
   ]
  },
  {
   "cell_type": "code",
   "execution_count": null,
   "id": "d5b1a8f9-d3dc-481e-8e49-55959ed863ad",
   "metadata": {},
   "outputs": [],
   "source": []
  },
  {
   "cell_type": "code",
   "execution_count": null,
   "id": "77ba1b11-68b1-4305-a2e5-cda427abc577",
   "metadata": {},
   "outputs": [],
   "source": [
    "Bottom_Obesity_df_1998 = obesity_gdp_protein_lex_pop.loc[obesity_gdp_protein_lex_pop.Year == 1998]\n",
    "Bottom_Obesity_df_1998 = Bottom_Obesity_df_1998.sort_values(by = \"Obesity_Prevalence _both\" , ascending =False).tail(5)\n",
    "Bottom_Obesity_df_1998"
   ]
  },
  {
   "cell_type": "code",
   "execution_count": null,
   "id": "c16d7f25-bf07-40b7-924e-357b1bb332e4",
   "metadata": {},
   "outputs": [],
   "source": []
  },
  {
   "cell_type": "code",
   "execution_count": null,
   "id": "d992030f-bdba-4c32-80d0-16f171b81996",
   "metadata": {},
   "outputs": [],
   "source": [
    "plt.figure(figsize=(10, 6))\n",
    "sns.barplot(x=Bottom_Obesity_df_1998.Country, y=Bottom_Obesity_df_1998['Obesity_Prevalence _both'],color='purple')\n",
    "plt.title('Bottom 5 Countries with  Lowest  Obesity Prevalence (1998)', fontsize=16)\n",
    "plt.xlabel('Country', fontsize=12)\n",
    "plt.ylabel('Obesity Prevalence (%)', fontsize=12)\n",
    "plt.show()"
   ]
  },
  {
   "cell_type": "code",
   "execution_count": null,
   "id": "6dfb7436-118b-4de3-92cf-7891d43bc2dc",
   "metadata": {},
   "outputs": [],
   "source": []
  },
  {
   "cell_type": "code",
   "execution_count": null,
   "id": "d4473b3e-0031-4f44-bb1f-81e45a9645ae",
   "metadata": {},
   "outputs": [],
   "source": [
    "Top_Obesity_df_1999  = obesity_gdp_protein_lex_pop.loc[obesity_gdp_protein_lex_pop.Year == 1999]\n",
    "Top_Obesity_df_1999  = Top_Obesity_df_1999.sort_values(by = \"Obesity_Prevalence _both\" , ascending =False).head(5)\n",
    "Top_Obesity_df_1999 "
   ]
  },
  {
   "cell_type": "code",
   "execution_count": null,
   "id": "9c0effd6-afc3-4761-89c6-05edd39bb4d6",
   "metadata": {},
   "outputs": [],
   "source": [
    "plt.figure(figsize=(10, 6))\n",
    "sns.barplot(x=Top_Obesity_df_1999.Country, y=Top_Obesity_df_1999['Obesity_Prevalence _both'],color='purple')\n",
    "plt.title('Top 5 Countries with Highest Obesity Prevalence (1999)', fontsize=16)\n",
    "plt.xlabel('Country', fontsize=12)\n",
    "plt.ylabel('Obesity Prevalence (%)', fontsize=12)\n",
    "plt.show()"
   ]
  },
  {
   "cell_type": "code",
   "execution_count": null,
   "id": "fc847d9f-92f6-436d-847c-f23691e527bc",
   "metadata": {},
   "outputs": [],
   "source": []
  },
  {
   "cell_type": "code",
   "execution_count": null,
   "id": "49b7e184-72ef-44fa-942f-075f69562e42",
   "metadata": {},
   "outputs": [],
   "source": [
    "Bottom_Obesity_df_1999= obesity_gdp_protein_lex_pop.loc[obesity_gdp_protein_lex_pop.Year == 1999]\n",
    "Bottom_Obesity_df_1999 = Bottom_Obesity_df_1999.sort_values(by = \"Obesity_Prevalence _both\" , ascending =False).tail(5)\n",
    "Bottom_Obesity_df_1999"
   ]
  },
  {
   "cell_type": "code",
   "execution_count": null,
   "id": "dbd7a6d1-090b-4d93-b411-6280bee7606f",
   "metadata": {},
   "outputs": [],
   "source": [
    "plt.figure(figsize=(10, 6))\n",
    "sns.barplot(x=Bottom_Obesity_df_1999.Country, y=Bottom_Obesity_df_1999['Obesity_Prevalence _both'],color='purple')\n",
    "plt.title('Bottom 5 Countries with  Lowest  Obesity Prevalence (1999)', fontsize=16)\n",
    "plt.xlabel('Country', fontsize=12)\n",
    "plt.ylabel('Obesity Prevalence (%)', fontsize=12)\n",
    "plt.show()"
   ]
  },
  {
   "cell_type": "code",
   "execution_count": null,
   "id": "9f0f8d0f-df24-4809-8582-411478d02b72",
   "metadata": {},
   "outputs": [],
   "source": []
  },
  {
   "cell_type": "code",
   "execution_count": null,
   "id": "7661a97e-5f2a-455f-982f-bc8ae35bbcd6",
   "metadata": {},
   "outputs": [],
   "source": [
    "Top_Obesity_df_2000  = obesity_gdp_protein_lex_pop.loc[obesity_gdp_protein_lex_pop.Year == 2000]\n",
    "Top_Obesity_df_2000  = Top_Obesity_df_2000.sort_values(by = \"Obesity_Prevalence _both\" , ascending =False).head(5)\n",
    "Top_Obesity_df_2000 "
   ]
  },
  {
   "cell_type": "code",
   "execution_count": null,
   "id": "fe1d0205-b764-4fc3-b5bc-f228764585f9",
   "metadata": {},
   "outputs": [],
   "source": [
    "plt.figure(figsize=(10, 6))\n",
    "sns.barplot(x=Top_Obesity_df_2000.Country, y=Top_Obesity_df_2000['Obesity_Prevalence _both'],color='purple')\n",
    "plt.title('Top 5 Countries with Highest Obesity Prevalence (2000)', fontsize=16)\n",
    "plt.xlabel('Country', fontsize=12)\n",
    "plt.ylabel('Obesity Prevalence (%)', fontsize=12)\n",
    "plt.show()"
   ]
  },
  {
   "cell_type": "code",
   "execution_count": null,
   "id": "0d1a85fc-539f-4982-b858-35bedaeae315",
   "metadata": {},
   "outputs": [],
   "source": []
  },
  {
   "cell_type": "code",
   "execution_count": null,
   "id": "b5f5dc0a-bd08-452e-b798-244a7b989f1f",
   "metadata": {},
   "outputs": [],
   "source": [
    "Bottom_Obesity_df_2000 = obesity_gdp_protein_lex_pop.loc[obesity_gdp_protein_lex_pop.Year == 2000]\n",
    "Bottom_Obesity_df_2000 = Bottom_Obesity_df_2000.sort_values(by = \"Obesity_Prevalence _both\" , ascending =False).tail(5)\n",
    "Bottom_Obesity_df_2000"
   ]
  },
  {
   "cell_type": "code",
   "execution_count": null,
   "id": "41ccae04-373b-4e14-a950-df61237948a0",
   "metadata": {},
   "outputs": [],
   "source": [
    "plt.figure(figsize=(10, 6))\n",
    "sns.barplot(x=Bottom_Obesity_df_2000.Country, y=Bottom_Obesity_df_2000['Obesity_Prevalence _both'],color='purple')\n",
    "plt.title('Bottom 5 Countries with  Lowest  Obesity Prevalence (2000)', fontsize=16)\n",
    "plt.xlabel('Country', fontsize=12)\n",
    "plt.ylabel('Obesity Prevalence (%)', fontsize=12)\n",
    "plt.show()"
   ]
  },
  {
   "cell_type": "code",
   "execution_count": null,
   "id": "b8382591-dd38-4daa-8262-c09771ce8597",
   "metadata": {},
   "outputs": [],
   "source": []
  },
  {
   "cell_type": "code",
   "execution_count": null,
   "id": "1ed38361-52f7-45fe-8c4b-68d8e975692e",
   "metadata": {},
   "outputs": [],
   "source": [
    "Top_Obesity_df_2001  = obesity_gdp_protein_lex_pop.loc[obesity_gdp_protein_lex_pop.Year == 2001]\n",
    "Top_Obesity_df_2001 = Top_Obesity_df_2001.sort_values(by = \"Obesity_Prevalence _both\" , ascending =False).head(5)\n",
    "Top_Obesity_df_2001"
   ]
  },
  {
   "cell_type": "code",
   "execution_count": null,
   "id": "fe6f54dd-8209-4831-b1c9-8fde16b47ecc",
   "metadata": {},
   "outputs": [],
   "source": [
    "plt.figure(figsize=(10, 6))\n",
    "sns.barplot(x=Top_Obesity_df_2001.Country, y=Top_Obesity_df_2001['Obesity_Prevalence _both'],color='purple')\n",
    "plt.title('Top 5 Countries with Highest Obesity Prevalence (2001)', fontsize=16)\n",
    "plt.xlabel('Country', fontsize=12)\n",
    "plt.ylabel('Obesity Prevalence (%)', fontsize=12)\n",
    "plt.show()"
   ]
  },
  {
   "cell_type": "code",
   "execution_count": null,
   "id": "8e3f245a-6584-470b-85f7-8b5749efba93",
   "metadata": {},
   "outputs": [],
   "source": []
  },
  {
   "cell_type": "code",
   "execution_count": null,
   "id": "9954a72c-e6d1-4d9f-9685-123867bd5907",
   "metadata": {},
   "outputs": [],
   "source": [
    "Bottom_Obesity_df_2001 = obesity_gdp_protein_lex_pop.loc[obesity_gdp_protein_lex_pop.Year == 2001]\n",
    "Bottom_Obesity_df_2001 = Bottom_Obesity_df_2001.sort_values(by = \"Obesity_Prevalence _both\" , ascending =False).tail(5)\n",
    "Bottom_Obesity_df_2001"
   ]
  },
  {
   "cell_type": "code",
   "execution_count": null,
   "id": "af0c3e34-7853-47c3-853c-c6b3dbaa1326",
   "metadata": {},
   "outputs": [],
   "source": [
    "plt.figure(figsize=(10, 6))\n",
    "sns.barplot(x=Bottom_Obesity_df_2001.Country, y=Bottom_Obesity_df_2001['Obesity_Prevalence _both'],color='purple')\n",
    "plt.title('Bottom 5 Countries with  Lowest  Obesity Prevalence (2001)', fontsize=16)\n",
    "plt.xlabel('Country', fontsize=12)\n",
    "plt.ylabel('Obesity Prevalence (%)', fontsize=12)\n",
    "plt.show()"
   ]
  },
  {
   "cell_type": "code",
   "execution_count": null,
   "id": "25a0dc6f-1bd7-48a5-8d4d-d28f477a0640",
   "metadata": {},
   "outputs": [],
   "source": []
  },
  {
   "cell_type": "code",
   "execution_count": null,
   "id": "ce54b00d-de5d-465a-a299-fa4b8a9373af",
   "metadata": {},
   "outputs": [],
   "source": []
  },
  {
   "cell_type": "code",
   "execution_count": null,
   "id": "2b59506d-ae39-4417-b654-79c813d095bd",
   "metadata": {},
   "outputs": [],
   "source": [
    "Top_Obesity_df_2002  = obesity_gdp_protein_lex_pop.loc[obesity_gdp_protein_lex_pop.Year == 2002]\n",
    "Top_Obesity_df_2002 = Top_Obesity_df_2002.sort_values(by = \"Obesity_Prevalence _both\" , ascending =False).head(5)\n",
    "Top_Obesity_df_2002"
   ]
  },
  {
   "cell_type": "code",
   "execution_count": null,
   "id": "159f3e4a-cad9-40ca-bdcf-ba4b7529a922",
   "metadata": {},
   "outputs": [],
   "source": [
    "plt.figure(figsize=(10, 6))\n",
    "sns.barplot(x=Top_Obesity_df_2002.Country, y=Top_Obesity_df_2002['Obesity_Prevalence _both'],color='purple')\n",
    "plt.title('Top 5 Countries with Highest Obesity Prevalence (2002)', fontsize=16)\n",
    "plt.xlabel('Country', fontsize=12)\n",
    "plt.ylabel('Obesity Prevalence (%)', fontsize=12)\n",
    "plt.show()"
   ]
  },
  {
   "cell_type": "code",
   "execution_count": null,
   "id": "4fab7627-a165-4d08-b163-01c76501693c",
   "metadata": {},
   "outputs": [],
   "source": []
  },
  {
   "cell_type": "code",
   "execution_count": null,
   "id": "a698a514-b2c8-414e-b90a-d76528a392a4",
   "metadata": {},
   "outputs": [],
   "source": [
    "Bottom_Obesity_df_2002 = obesity_gdp_protein_lex_pop.loc[obesity_gdp_protein_lex_pop.Year == 2002]\n",
    "Bottom_Obesity_df_2002 = Bottom_Obesity_df_2002.sort_values(by = \"Obesity_Prevalence _both\" , ascending =False).tail(5)\n",
    "Bottom_Obesity_df_2002"
   ]
  },
  {
   "cell_type": "code",
   "execution_count": null,
   "id": "e267646e-b680-4fe6-b51c-ee717a08c5db",
   "metadata": {},
   "outputs": [],
   "source": [
    "plt.figure(figsize=(10, 6))\n",
    "sns.barplot(x=Bottom_Obesity_df_2002.Country, y=Bottom_Obesity_df_2002['Obesity_Prevalence _both'],color='purple')\n",
    "plt.title('Bottom 5 Countries with  Lowest Obesity Prevalence (2002)', fontsize=16)\n",
    "plt.xlabel('Country', fontsize=12)\n",
    "plt.ylabel('Obesity Prevalence (%)', fontsize=12)\n",
    "plt.show()"
   ]
  },
  {
   "cell_type": "code",
   "execution_count": null,
   "id": "6043cc13-1eb0-4800-a00a-19ccb42bbad1",
   "metadata": {},
   "outputs": [],
   "source": []
  },
  {
   "cell_type": "code",
   "execution_count": null,
   "id": "5007e85c-bee7-4607-83db-f638dfa66f11",
   "metadata": {},
   "outputs": [],
   "source": [
    "Top_Obesity_df_2003  = obesity_gdp_protein_lex_pop.loc[obesity_gdp_protein_lex_pop.Year == 2003]\n",
    "Top_Obesity_df_2003  = Top_Obesity_df_2003.sort_values(by = \"Obesity_Prevalence _both\" , ascending =False).head(5)\n",
    "Top_Obesity_df_2003 "
   ]
  },
  {
   "cell_type": "code",
   "execution_count": null,
   "id": "55017852-4def-4d0c-bc88-11bf47835fdd",
   "metadata": {},
   "outputs": [],
   "source": [
    "plt.figure(figsize=(10, 6))\n",
    "sns.barplot(x=Top_Obesity_df_2003.Country, y=Top_Obesity_df_2003['Obesity_Prevalence _both'],color='purple')\n",
    "plt.title('Top 5 Countries with Highest Obesity Prevalence (2003)', fontsize=16)\n",
    "plt.xlabel('Country', fontsize=12)\n",
    "plt.ylabel('Obesity Prevalence (%)', fontsize=12)\n",
    "plt.show()"
   ]
  },
  {
   "cell_type": "code",
   "execution_count": null,
   "id": "0ec0ca13-6c80-4a7f-b00c-28cbeaff3930",
   "metadata": {},
   "outputs": [],
   "source": []
  },
  {
   "cell_type": "code",
   "execution_count": null,
   "id": "3755aabe-ee4e-429c-aa64-2cdafe3e774a",
   "metadata": {},
   "outputs": [],
   "source": [
    "Bottom_Obesity_df_2003 = obesity_gdp_protein_lex_pop.loc[obesity_gdp_protein_lex_pop.Year == 2003]\n",
    "Bottom_Obesity_df_2003  = Bottom_Obesity_df_2003.sort_values(by = \"Obesity_Prevalence _both\" , ascending =False).tail(5)\n",
    "Bottom_Obesity_df_2003 "
   ]
  },
  {
   "cell_type": "code",
   "execution_count": null,
   "id": "b873ac2b-42ff-44aa-88d3-42272313ff4e",
   "metadata": {},
   "outputs": [],
   "source": [
    "plt.figure(figsize=(10, 6))\n",
    "sns.barplot(x=Bottom_Obesity_df_2003.Country, y=Bottom_Obesity_df_2003['Obesity_Prevalence _both'],color='purple')\n",
    "plt.title('Bottom 5 Countries with  Lowest  Obesity Prevalence (2003)', fontsize=16)\n",
    "plt.xlabel('Country', fontsize=12)\n",
    "plt.ylabel('Obesity Prevalence (%)', fontsize=12)\n",
    "plt.show()"
   ]
  },
  {
   "cell_type": "code",
   "execution_count": null,
   "id": "892fa71f-3e6b-4cd5-b946-c999868cfa3f",
   "metadata": {},
   "outputs": [],
   "source": []
  },
  {
   "cell_type": "code",
   "execution_count": null,
   "id": "7f5d5e65-6fff-4503-8ad8-b07cc69fa217",
   "metadata": {},
   "outputs": [],
   "source": [
    "Top_Obesity_df_2004  = obesity_gdp_protein_lex_pop.loc[obesity_gdp_protein_lex_pop.Year == 2004]\n",
    "Top_Obesity_df_2004 = Top_Obesity_df_2004.sort_values(by = \"Obesity_Prevalence _both\" , ascending =False).head(5)\n",
    "Top_Obesity_df_2004"
   ]
  },
  {
   "cell_type": "code",
   "execution_count": null,
   "id": "0604a2ec-aa15-4282-a07b-17a6b21dbd88",
   "metadata": {},
   "outputs": [],
   "source": [
    "plt.figure(figsize=(10, 6))\n",
    "sns.barplot(x=Top_Obesity_df_2004.Country, y=Top_Obesity_df_2004['Obesity_Prevalence _both'],color='purple')\n",
    "plt.title('Top 5 Countries with Highest Obesity Prevalence (2004)', fontsize=16)\n",
    "plt.xlabel('Country', fontsize=12)\n",
    "plt.ylabel('Obesity Prevalence (%)', fontsize=12)\n",
    "plt.show()"
   ]
  },
  {
   "cell_type": "code",
   "execution_count": null,
   "id": "9e29e099-93f3-42af-925b-bb02807ff52c",
   "metadata": {},
   "outputs": [],
   "source": []
  },
  {
   "cell_type": "code",
   "execution_count": null,
   "id": "29645939-8bd7-49fc-a653-a4e019a4cc22",
   "metadata": {},
   "outputs": [],
   "source": [
    "Bottom_Obesity_df_2004 = obesity_gdp_protein_lex_pop.loc[obesity_gdp_protein_lex_pop.Year == 2004]\n",
    "Bottom_Obesity_df_2004 = Bottom_Obesity_df_2004.sort_values(by = \"Obesity_Prevalence _both\" , ascending =False).tail(5)\n",
    "Bottom_Obesity_df_2004"
   ]
  },
  {
   "cell_type": "code",
   "execution_count": null,
   "id": "6f3769a7-839e-4524-bd6b-5f616f66d729",
   "metadata": {},
   "outputs": [],
   "source": [
    "plt.figure(figsize=(10, 6))\n",
    "sns.barplot(x=Bottom_Obesity_df_2004.Country, y=Bottom_Obesity_df_2004['Obesity_Prevalence _both'],color='purple')\n",
    "plt.title('Bottom 5 Countries with  Lowest  Obesity Prevalence (2004)', fontsize=16)\n",
    "plt.xlabel('Country', fontsize=12)\n",
    "plt.ylabel('Obesity Prevalence (%)', fontsize=12)\n",
    "plt.show()"
   ]
  },
  {
   "cell_type": "code",
   "execution_count": null,
   "id": "36358645-0976-4f35-9b6a-13c8062933a8",
   "metadata": {},
   "outputs": [],
   "source": []
  },
  {
   "cell_type": "code",
   "execution_count": null,
   "id": "29ec0fbb-df87-4348-af33-2c53bfd2264d",
   "metadata": {},
   "outputs": [],
   "source": [
    "Top_Obesity_df_2005 = obesity_gdp_protein_lex_pop.loc[obesity_gdp_protein_lex_pop.Year == 2005]\n",
    "Top_Obesity_df_2005 = Top_Obesity_df_2005.sort_values(by = \"Obesity_Prevalence _both\" , ascending =False).head(5)\n",
    "Top_Obesity_df_2005"
   ]
  },
  {
   "cell_type": "code",
   "execution_count": null,
   "id": "abeed7e6-a8bd-4da8-8b21-06f22ae39836",
   "metadata": {},
   "outputs": [],
   "source": [
    "plt.figure(figsize=(10, 6))\n",
    "sns.barplot(x=Top_Obesity_df_2005.Country, y=Top_Obesity_df_2005['Obesity_Prevalence _both'],color='purple')\n",
    "plt.title('Top 5 Countries with Highest Obesity Prevalence (2005)', fontsize=16)\n",
    "plt.xlabel('Country', fontsize=12)\n",
    "plt.ylabel('Obesity Prevalence (%)', fontsize=12)\n",
    "plt.show()"
   ]
  },
  {
   "cell_type": "code",
   "execution_count": null,
   "id": "ebda40a7-b7a6-42ee-98b7-b1683ac527e5",
   "metadata": {},
   "outputs": [],
   "source": []
  },
  {
   "cell_type": "code",
   "execution_count": null,
   "id": "d9686db5-2cde-47d1-bc2c-9db8887ae592",
   "metadata": {},
   "outputs": [],
   "source": [
    "Bottom_Obesity_df_2005 = obesity_gdp_protein_lex_pop.loc[obesity_gdp_protein_lex_pop.Year == 2005]\n",
    "Bottom_Obesity_df_2005  = Bottom_Obesity_df_2005.sort_values(by = \"Obesity_Prevalence _both\" , ascending =False).tail(5)\n",
    "Bottom_Obesity_df_2005 "
   ]
  },
  {
   "cell_type": "code",
   "execution_count": null,
   "id": "d2438538-fe62-4b67-8787-a36e21b82e4c",
   "metadata": {},
   "outputs": [],
   "source": [
    "plt.figure(figsize=(10, 6))\n",
    "sns.barplot(x=Bottom_Obesity_df_2005.Country, y=Bottom_Obesity_df_2005['Obesity_Prevalence _both'],color='purple')\n",
    "plt.title('Bottom 5 Countries with  Lowest  Obesity Prevalence (2005)', fontsize=16)\n",
    "plt.xlabel('Country', fontsize=12)\n",
    "plt.ylabel('Obesity Prevalence (%)', fontsize=12)\n",
    "plt.show()"
   ]
  },
  {
   "cell_type": "code",
   "execution_count": null,
   "id": "c475e74e-ff41-45dc-a925-93500b74af5e",
   "metadata": {},
   "outputs": [],
   "source": []
  },
  {
   "cell_type": "code",
   "execution_count": null,
   "id": "9c4fe998-aa59-4dfa-a02b-18d765160320",
   "metadata": {},
   "outputs": [],
   "source": [
    "Top_Obesity_df_2006  = obesity_gdp_protein_lex_pop.loc[obesity_gdp_protein_lex_pop.Year == 2006]\n",
    "Top_Obesity_df_2006 = Top_Obesity_df_2006.sort_values(by = \"Obesity_Prevalence _both\" , ascending =False).head(5)\n",
    "Top_Obesity_df_2006 "
   ]
  },
  {
   "cell_type": "code",
   "execution_count": null,
   "id": "2652d138-8524-423b-9dfa-7c04e53c3bb5",
   "metadata": {},
   "outputs": [],
   "source": [
    "plt.figure(figsize=(10, 6))\n",
    "sns.barplot(x=Top_Obesity_df_2006.Country, y=Top_Obesity_df_2006['Obesity_Prevalence _both'],color='purple')\n",
    "plt.title('Top 5 Countries with Highest Obesity Prevalence (2006)', fontsize=16)\n",
    "plt.xlabel('Country', fontsize=12)\n",
    "plt.ylabel('Obesity Prevalence (%)', fontsize=12)\n",
    "plt.show()"
   ]
  },
  {
   "cell_type": "code",
   "execution_count": null,
   "id": "7405a682-a1a4-4f5b-992f-aa55c5e7b873",
   "metadata": {},
   "outputs": [],
   "source": []
  },
  {
   "cell_type": "code",
   "execution_count": null,
   "id": "4f0615e7-a54a-4f8e-b8f3-53108c5218fa",
   "metadata": {},
   "outputs": [],
   "source": [
    "Bottom_Obesity_df_2006 = obesity_gdp_protein_lex_pop.loc[obesity_gdp_protein_lex_pop.Year == 2006]\n",
    "Bottom_Obesity_df_2006 = Bottom_Obesity_df_2006.sort_values(by = \"Obesity_Prevalence _both\" , ascending =False).tail(5)\n",
    "Bottom_Obesity_df_2006"
   ]
  },
  {
   "cell_type": "code",
   "execution_count": null,
   "id": "ac5113b1-f403-4101-ad71-957792337056",
   "metadata": {},
   "outputs": [],
   "source": [
    "plt.figure(figsize=(10, 6))\n",
    "sns.barplot(x=Bottom_Obesity_df_2006.Country, y=Bottom_Obesity_df_2006['Obesity_Prevalence _both'],color='purple')\n",
    "plt.title('Bottom 5 Countries with  Lowest Obesity Prevalence (2006)', fontsize=16)\n",
    "plt.xlabel('Country', fontsize=12)\n",
    "plt.ylabel('Obesity Prevalence (%)', fontsize=12)\n",
    "plt.show()"
   ]
  },
  {
   "cell_type": "code",
   "execution_count": null,
   "id": "504886fc-d307-4daf-a093-d431aa552bc0",
   "metadata": {},
   "outputs": [],
   "source": []
  },
  {
   "cell_type": "code",
   "execution_count": null,
   "id": "7d679c92-d1e3-4cb8-aedd-416f5efaea0c",
   "metadata": {},
   "outputs": [],
   "source": [
    "Top_Obesity_df_2007  = obesity_gdp_protein_lex_pop.loc[obesity_gdp_protein_lex_pop.Year == 2007]\n",
    "Top_Obesity_df_2007 = Top_Obesity_df_2007.sort_values(by = \"Obesity_Prevalence _both\" , ascending =False).head(5)\n",
    "Top_Obesity_df_2007"
   ]
  },
  {
   "cell_type": "code",
   "execution_count": null,
   "id": "76ab678b-2398-4a41-982e-037e948851de",
   "metadata": {},
   "outputs": [],
   "source": [
    "plt.figure(figsize=(10, 6))\n",
    "sns.barplot(x=Top_Obesity_df_2007.Country, y=Top_Obesity_df_2007['Obesity_Prevalence _both'],color='purple')\n",
    "plt.title('Top 5 Countries with Highest Obesity Prevalence (2007)', fontsize=16)\n",
    "plt.xlabel('Country', fontsize=12)\n",
    "plt.ylabel('Obesity Prevalence (%)', fontsize=12)\n",
    "plt.show()"
   ]
  },
  {
   "cell_type": "code",
   "execution_count": null,
   "id": "b661c5c4-0c2f-4e2d-87c3-6dbc23a583ad",
   "metadata": {},
   "outputs": [],
   "source": []
  },
  {
   "cell_type": "code",
   "execution_count": null,
   "id": "b6ee29a2-10f0-4c52-a39f-1d0f84b4d21d",
   "metadata": {},
   "outputs": [],
   "source": [
    "Bottom_Obesity_df_2007 = obesity_gdp_protein_lex_pop.loc[obesity_gdp_protein_lex_pop.Year == 2007]\n",
    "Bottom_Obesity_df_2007 = Bottom_Obesity_df_2007.sort_values(by = \"Obesity_Prevalence _both\" , ascending =False).tail(5)\n",
    "Bottom_Obesity_df_2007"
   ]
  },
  {
   "cell_type": "code",
   "execution_count": null,
   "id": "bdb758db-fb27-486e-a7ff-d302d2a4b62c",
   "metadata": {},
   "outputs": [],
   "source": [
    "plt.figure(figsize=(10, 6))\n",
    "sns.barplot(x=Bottom_Obesity_df_2007.Country, y=Bottom_Obesity_df_2007['Obesity_Prevalence _both'],color='purple')\n",
    "plt.title('Bottom 5 Countries with  Lowest  Obesity Prevalence (2007)', fontsize=16)\n",
    "plt.xlabel('Country', fontsize=12)\n",
    "plt.ylabel('Obesity Prevalence (%)', fontsize=12)\n",
    "plt.show()"
   ]
  },
  {
   "cell_type": "code",
   "execution_count": null,
   "id": "b0523e3d-850f-47a0-addf-688f61e351a4",
   "metadata": {},
   "outputs": [],
   "source": []
  },
  {
   "cell_type": "code",
   "execution_count": null,
   "id": "1293142d-98ee-40fb-ad6c-2d41c172fdb6",
   "metadata": {},
   "outputs": [],
   "source": []
  },
  {
   "cell_type": "code",
   "execution_count": null,
   "id": "2952fb86-a6ed-468b-b1b1-53d75360b403",
   "metadata": {},
   "outputs": [],
   "source": [
    "Top_Obesity_df_2008  = obesity_gdp_protein_lex_pop.loc[obesity_gdp_protein_lex_pop.Year == 2008]\n",
    "Top_Obesity_df_2008 = Top_Obesity_df_2008.sort_values(by = \"Obesity_Prevalence _both\" , ascending =False).head(5)\n",
    "Top_Obesity_df_2008"
   ]
  },
  {
   "cell_type": "code",
   "execution_count": null,
   "id": "b7831089-e840-4082-87b0-10c695e3ee66",
   "metadata": {},
   "outputs": [],
   "source": [
    "plt.figure(figsize=(10, 6))\n",
    "sns.barplot(x=Top_Obesity_df_2008.Country, y=Top_Obesity_df_2008['Obesity_Prevalence _both'],color='purple')\n",
    "plt.title('Top 5 Countries with Highest Obesity Prevalence (2008)', fontsize=16)\n",
    "plt.xlabel('Country', fontsize=12)\n",
    "plt.ylabel('Obesity Prevalence (%)', fontsize=12)\n",
    "plt.show()"
   ]
  },
  {
   "cell_type": "code",
   "execution_count": null,
   "id": "c6397ad8-ab49-47ab-95b2-3a2bdd6caa9f",
   "metadata": {},
   "outputs": [],
   "source": []
  },
  {
   "cell_type": "code",
   "execution_count": null,
   "id": "af8b668e-79d0-4315-b2a4-aa4cbd2c0d2b",
   "metadata": {},
   "outputs": [],
   "source": [
    "Bottom_Obesity_df_2008 = obesity_gdp_protein_lex_pop.loc[obesity_gdp_protein_lex_pop.Year == 2008]\n",
    "Bottom_Obesity_df_2008 = Bottom_Obesity_df_2008.sort_values(by = \"Obesity_Prevalence _both\" , ascending =False).tail(5)\n",
    "Bottom_Obesity_df_2008"
   ]
  },
  {
   "cell_type": "code",
   "execution_count": null,
   "id": "2b6f1692-2c01-43e0-a393-1227cbceede3",
   "metadata": {},
   "outputs": [],
   "source": []
  },
  {
   "cell_type": "code",
   "execution_count": null,
   "id": "b879fda5-8059-4fbf-a766-2cbaae8c90a2",
   "metadata": {},
   "outputs": [],
   "source": [
    "plt.figure(figsize=(10, 6))\n",
    "sns.barplot(x=Bottom_Obesity_df_2008.Country, y=Bottom_Obesity_df_2008['Obesity_Prevalence _both'],color='purple')\n",
    "plt.title('Bottom 5 Countries with  Lowest  Obesity Prevalence (2008)', fontsize=16)\n",
    "plt.xlabel('Country', fontsize=12)\n",
    "plt.ylabel('Obesity Prevalence (%)', fontsize=12)\n",
    "plt.show()"
   ]
  },
  {
   "cell_type": "code",
   "execution_count": null,
   "id": "d3321ea2-9f71-42fd-a314-57dcbd569907",
   "metadata": {},
   "outputs": [],
   "source": []
  },
  {
   "cell_type": "code",
   "execution_count": null,
   "id": "269e2ff4-e994-4c34-ab4b-742eaa3ee002",
   "metadata": {},
   "outputs": [],
   "source": [
    "Top_Obesity_df_2009  = obesity_gdp_protein_lex_pop.loc[obesity_gdp_protein_lex_pop.Year == 2009]\n",
    "Top_Obesity_df_2009 = Top_Obesity_df_2009.sort_values(by = \"Obesity_Prevalence _both\" , ascending =False).head(5)\n",
    "Top_Obesity_df_2009"
   ]
  },
  {
   "cell_type": "code",
   "execution_count": null,
   "id": "4410e3dc-056d-435d-a69e-a66685b87639",
   "metadata": {},
   "outputs": [],
   "source": [
    "plt.figure(figsize=(10, 6))\n",
    "sns.barplot(x=Top_Obesity_df_2009.Country, y=Top_Obesity_df_2009['Obesity_Prevalence _both'],color='purple')\n",
    "plt.title('Top 5 Countries with Highest Obesity Prevalence (2009)', fontsize=16)\n",
    "plt.xlabel('Country', fontsize=12)\n",
    "plt.ylabel('Obesity Prevalence (%)', fontsize=12)\n",
    "plt.show()"
   ]
  },
  {
   "cell_type": "code",
   "execution_count": null,
   "id": "5a4543b4-f877-4463-8da7-aa44fa6355e6",
   "metadata": {},
   "outputs": [],
   "source": []
  },
  {
   "cell_type": "code",
   "execution_count": null,
   "id": "e4cf85c7-2a93-4706-a51a-e5bca0a470fb",
   "metadata": {},
   "outputs": [],
   "source": [
    "Bottom_Obesity_df_2009 = obesity_gdp_protein_lex_pop.loc[obesity_gdp_protein_lex_pop.Year == 2009]\n",
    "Bottom_Obesity_df_2009  = Bottom_Obesity_df_2009.sort_values(by = \"Obesity_Prevalence _both\" , ascending =False).tail(5)\n",
    "Bottom_Obesity_df_2009 "
   ]
  },
  {
   "cell_type": "code",
   "execution_count": null,
   "id": "78a20bb7-6d1a-4335-b29f-6197b1f1bb3a",
   "metadata": {},
   "outputs": [],
   "source": [
    "plt.figure(figsize=(10, 6))\n",
    "sns.barplot(x=Bottom_Obesity_df_2009.Country, y=Bottom_Obesity_df_2009['Obesity_Prevalence _both'],color='purple')\n",
    "plt.title('Bottom 5 Countries with  Lowest  Obesity Prevalence (2009)', fontsize=16)\n",
    "plt.xlabel('Country', fontsize=12)\n",
    "plt.ylabel('Obesity Prevalence (%)', fontsize=12)\n",
    "plt.show()"
   ]
  },
  {
   "cell_type": "code",
   "execution_count": null,
   "id": "48aa2360-3ece-40f0-827b-2fb14cc30f54",
   "metadata": {},
   "outputs": [],
   "source": []
  },
  {
   "cell_type": "code",
   "execution_count": null,
   "id": "567534dd-df24-4a76-8635-6ab37bd326f3",
   "metadata": {},
   "outputs": [],
   "source": [
    "Top_Obesity_df_2010  = obesity_gdp_protein_lex_pop.loc[obesity_gdp_protein_lex_pop.Year == 2010]\n",
    "Top_Obesity_df_2010  =Top_Obesity_df_2010.sort_values(by = \"Obesity_Prevalence _both\" , ascending =False).head(5)\n",
    "Top_Obesity_df_2010 "
   ]
  },
  {
   "cell_type": "code",
   "execution_count": null,
   "id": "77ae36c8-0ef2-4107-9bfe-4d8f63e96586",
   "metadata": {},
   "outputs": [],
   "source": [
    "plt.figure(figsize=(10, 6))\n",
    "sns.barplot(x=Top_Obesity_df_2010.Country, y=Top_Obesity_df_2010['Obesity_Prevalence _both'],color='purple')\n",
    "plt.title('Top 5 Countries with Highest Obesity Prevalence (2010)', fontsize=16)\n",
    "plt.xlabel('Country', fontsize=12)\n",
    "plt.ylabel('Obesity Prevalence (%)', fontsize=12)\n",
    "plt.show()"
   ]
  },
  {
   "cell_type": "code",
   "execution_count": null,
   "id": "5413d1c4-80d6-4b86-a12a-4f9b2763898b",
   "metadata": {},
   "outputs": [],
   "source": []
  },
  {
   "cell_type": "code",
   "execution_count": null,
   "id": "ffcb51fb-0390-4154-87cf-94d252381653",
   "metadata": {},
   "outputs": [],
   "source": [
    "Bottom_Obesity_df_2010 = obesity_gdp_protein_lex_pop.loc[obesity_gdp_protein_lex_pop.Year == 2010]\n",
    "Bottom_Obesity_df_2010 = Bottom_Obesity_df_2010.sort_values(by = \"Obesity_Prevalence _both\" , ascending =False).tail(5)\n",
    "Bottom_Obesity_df_2010"
   ]
  },
  {
   "cell_type": "code",
   "execution_count": null,
   "id": "4f3fcf19-f5be-496d-9615-7a42d2349770",
   "metadata": {},
   "outputs": [],
   "source": [
    "plt.figure(figsize=(10, 6))\n",
    "sns.barplot(x=Bottom_Obesity_df_2010.Country, y=Bottom_Obesity_df_2010['Obesity_Prevalence _both'],color='purple')\n",
    "plt.title('Bottom 5 Countries with  Lowest  Obesity Prevalence (2010)', fontsize=16)\n",
    "plt.xlabel('Country', fontsize=12)\n",
    "plt.ylabel('Obesity Prevalence (%)', fontsize=12)\n",
    "plt.show()"
   ]
  },
  {
   "cell_type": "code",
   "execution_count": null,
   "id": "1b0fe3fa-1cff-40a4-ac4e-e6da7244abd8",
   "metadata": {},
   "outputs": [],
   "source": []
  },
  {
   "cell_type": "code",
   "execution_count": null,
   "id": "6ae1ef8c-1742-43d0-be59-e825e9845723",
   "metadata": {},
   "outputs": [],
   "source": [
    "Top_Obesity_df_2011  = obesity_gdp_protein_lex_pop.loc[obesity_gdp_protein_lex_pop.Year == 2011]\n",
    "Top_Obesity_df_2011 = Top_Obesity_df_2011.sort_values(by = \"Obesity_Prevalence _both\" , ascending =False).head(5)\n",
    "Top_Obesity_df_2011"
   ]
  },
  {
   "cell_type": "code",
   "execution_count": null,
   "id": "740ee750-a4bf-4d59-bcf8-9017bbc8e47d",
   "metadata": {},
   "outputs": [],
   "source": [
    "plt.figure(figsize=(10, 6))\n",
    "sns.barplot(x=Top_Obesity_df_2011.Country, y=Top_Obesity_df_2011['Obesity_Prevalence _both'],color='purple')\n",
    "plt.title('Top 5 Countries with Highest Obesity Prevalence (2011)', fontsize=16)\n",
    "plt.xlabel('Country', fontsize=12)\n",
    "plt.ylabel('Obesity Prevalence (%)', fontsize=12)\n",
    "plt.show()"
   ]
  },
  {
   "cell_type": "code",
   "execution_count": null,
   "id": "7b289cf8-faf2-472f-9848-dea7c559494a",
   "metadata": {},
   "outputs": [],
   "source": []
  },
  {
   "cell_type": "code",
   "execution_count": null,
   "id": "6b64570f-44e3-4aeb-9972-9a9e9f8088a4",
   "metadata": {},
   "outputs": [],
   "source": [
    "Bottom_Obesity_df_2011 = obesity_gdp_protein_lex_pop.loc[obesity_gdp_protein_lex_pop.Year == 2011]\n",
    "Bottom_Obesity_df_2011  = Bottom_Obesity_df_2011.sort_values(by = \"Obesity_Prevalence _both\" , ascending =False).tail(5)\n",
    "Bottom_Obesity_df_2011 "
   ]
  },
  {
   "cell_type": "code",
   "execution_count": null,
   "id": "90610415-c094-4834-a2ae-05ab26d51343",
   "metadata": {},
   "outputs": [],
   "source": [
    "plt.figure(figsize=(10, 6))\n",
    "sns.barplot(x=Bottom_Obesity_df_2011.Country, y=Bottom_Obesity_df_2011['Obesity_Prevalence _both'],color='purple')\n",
    "plt.title('Bottom 5 Countries with  Lowest  Obesity Prevalence (2011)', fontsize=16)\n",
    "plt.xlabel('Country', fontsize=12)\n",
    "plt.ylabel('Obesity Prevalence (%)', fontsize=12)\n",
    "plt.show()"
   ]
  },
  {
   "cell_type": "code",
   "execution_count": null,
   "id": "c3665107-55f7-4c88-8a98-951831c9ff8c",
   "metadata": {},
   "outputs": [],
   "source": []
  },
  {
   "cell_type": "code",
   "execution_count": null,
   "id": "2a1c7923-43f5-41bf-a6d7-bc4952fcd939",
   "metadata": {},
   "outputs": [],
   "source": [
    "Top_Obesity_df_2012  = obesity_gdp_protein_lex_pop.loc[obesity_gdp_protein_lex_pop.Year == 2012]\n",
    "Top_Obesity_df_2012 = Top_Obesity_df_2012.sort_values(by = \"Obesity_Prevalence _both\" , ascending =False).head(5)\n",
    "Top_Obesity_df_2012"
   ]
  },
  {
   "cell_type": "code",
   "execution_count": null,
   "id": "3708f6ce-9134-42a2-a1cf-90feb16c2ec1",
   "metadata": {},
   "outputs": [],
   "source": [
    "plt.figure(figsize=(10, 6))\n",
    "sns.barplot(x=Top_Obesity_df_2012.Country, y=Top_Obesity_df_2012['Obesity_Prevalence _both'],color='purple')\n",
    "plt.title('Top 5 Countries with Highest Obesity Prevalence (2012)', fontsize=16)\n",
    "plt.xlabel('Country', fontsize=12)\n",
    "plt.ylabel('Obesity Prevalence (%)', fontsize=12)\n",
    "plt.show()"
   ]
  },
  {
   "cell_type": "code",
   "execution_count": null,
   "id": "739afc43-a0c7-4e23-9848-5a2538924228",
   "metadata": {},
   "outputs": [],
   "source": []
  },
  {
   "cell_type": "code",
   "execution_count": null,
   "id": "d239533f-47d8-4552-b005-0cfebefba1d1",
   "metadata": {},
   "outputs": [],
   "source": [
    "Bottom_Obesity_df_2012 = obesity_gdp_protein_lex_pop.loc[obesity_gdp_protein_lex_pop.Year == 2012]\n",
    "Bottom_Obesity_df_2012 = Bottom_Obesity_df_2012.sort_values(by = \"Obesity_Prevalence _both\" , ascending =False).tail(5)\n",
    "Bottom_Obesity_df_2012"
   ]
  },
  {
   "cell_type": "code",
   "execution_count": null,
   "id": "bb9761d3-2e76-4578-9c7a-26d147eda936",
   "metadata": {},
   "outputs": [],
   "source": [
    "plt.figure(figsize=(10, 6))\n",
    "sns.barplot(x=Bottom_Obesity_df_2012.Country, y=Bottom_Obesity_df_2012['Obesity_Prevalence _both'],color='purple')\n",
    "plt.title('Bottom 5 Countries with  Lowest  Obesity Prevalence (2012)', fontsize=16)\n",
    "plt.xlabel('Country', fontsize=12)\n",
    "plt.ylabel('Obesity Prevalence (%)', fontsize=12)\n",
    "plt.show()"
   ]
  },
  {
   "cell_type": "code",
   "execution_count": null,
   "id": "b5a74aee-ac0e-4587-b084-0cd377413c10",
   "metadata": {},
   "outputs": [],
   "source": []
  },
  {
   "cell_type": "code",
   "execution_count": null,
   "id": "68001f8b-953d-4552-8a7c-fc8e137898b2",
   "metadata": {},
   "outputs": [],
   "source": [
    "Top_Obesity_df_2013  = obesity_gdp_protein_lex_pop.loc[obesity_gdp_protein_lex_pop.Year == 2013]\n",
    "Top_Obesity_df_2013 = Top_Obesity_df_2013.sort_values(by = \"Obesity_Prevalence _both\" , ascending =False).head(5)\n",
    "Top_Obesity_df_2013"
   ]
  },
  {
   "cell_type": "code",
   "execution_count": null,
   "id": "b0904cdf-fb1b-4e34-991c-8b00ae1141aa",
   "metadata": {},
   "outputs": [],
   "source": [
    "plt.figure(figsize=(10, 6))\n",
    "sns.barplot(x=Top_Obesity_df_2013.Country, y=Top_Obesity_df_2013['Obesity_Prevalence _both'],color='purple')\n",
    "plt.title('Top 5 Countries with Highest Obesity Prevalence (2013)', fontsize=16)\n",
    "plt.xlabel('Country', fontsize=12)\n",
    "plt.ylabel('Obesity Prevalence (%)', fontsize=12)\n",
    "plt.show()"
   ]
  },
  {
   "cell_type": "code",
   "execution_count": null,
   "id": "aab5cad2-2798-47b1-be3b-6dc6404fc2bd",
   "metadata": {},
   "outputs": [],
   "source": []
  },
  {
   "cell_type": "code",
   "execution_count": null,
   "id": "0d158ba9-dd21-40bc-92e9-9a3bf32ce56b",
   "metadata": {},
   "outputs": [],
   "source": [
    "Bottom_Obesity_df_2013 = obesity_gdp_protein_lex_pop.loc[obesity_gdp_protein_lex_pop.Year == 2013]\n",
    "Bottom_Obesity_df_2013 = Bottom_Obesity_df_2013.sort_values(by = \"Obesity_Prevalence _both\" , ascending =False).tail(5)\n",
    "Bottom_Obesity_df_2013"
   ]
  },
  {
   "cell_type": "code",
   "execution_count": null,
   "id": "39a4a39d-b844-4115-8b8d-2769d303a3f5",
   "metadata": {},
   "outputs": [],
   "source": []
  },
  {
   "cell_type": "code",
   "execution_count": null,
   "id": "a6e6c6a3-50e4-4cbe-b22a-6663a2bf0d7f",
   "metadata": {},
   "outputs": [],
   "source": [
    "plt.figure(figsize=(10, 6))\n",
    "sns.barplot(x=Bottom_Obesity_df_2013.Country, y=Bottom_Obesity_df_2013['Obesity_Prevalence _both'],color='purple')\n",
    "plt.title('Bottom 5 Countries with  Lowest  Obesity Prevalence (2013)', fontsize=16)\n",
    "plt.xlabel('Country', fontsize=12)\n",
    "plt.ylabel('Obesity Prevalence (%)', fontsize=12)\n",
    "plt.show()"
   ]
  },
  {
   "cell_type": "code",
   "execution_count": null,
   "id": "f2533f32-c216-4bc9-8215-aca9967b5ccc",
   "metadata": {},
   "outputs": [],
   "source": []
  },
  {
   "cell_type": "code",
   "execution_count": null,
   "id": "c0fdcc0d-d995-4773-b203-eae08828a0bf",
   "metadata": {},
   "outputs": [],
   "source": [
    "Top_Obesity_df_2014  = obesity_gdp_protein_lex_pop.loc[obesity_gdp_protein_lex_pop.Year == 2014]\n",
    "Top_Obesity_df_2014  = Top_Obesity_df_2014.sort_values(by = \"Obesity_Prevalence _both\" , ascending =False).head(5)\n",
    "Top_Obesity_df_2014 "
   ]
  },
  {
   "cell_type": "code",
   "execution_count": null,
   "id": "639e2a84-7d7b-48d7-9b54-cc282726e240",
   "metadata": {},
   "outputs": [],
   "source": [
    "plt.figure(figsize=(10, 6))\n",
    "sns.barplot(x=Top_Obesity_df_2014.Country, y=Top_Obesity_df_2014['Obesity_Prevalence _both'],color='purple')\n",
    "plt.title('Top 5 Countries with Highest Obesity Prevalence (2014)', fontsize=16)\n",
    "plt.xlabel('Country', fontsize=12)\n",
    "plt.ylabel('Obesity Prevalence (%)', fontsize=12)\n",
    "plt.show()"
   ]
  },
  {
   "cell_type": "code",
   "execution_count": null,
   "id": "f58188a6-e0df-4e15-8bae-50a065df5c4e",
   "metadata": {},
   "outputs": [],
   "source": []
  },
  {
   "cell_type": "code",
   "execution_count": null,
   "id": "bef0769b-62ae-4073-b91f-6da9e474f968",
   "metadata": {},
   "outputs": [],
   "source": [
    "Bottom_Obesity_df_2014 = obesity_gdp_protein_lex_pop.loc[obesity_gdp_protein_lex_pop.Year == 2014]\n",
    "Bottom_Obesity_df_2014 = Bottom_Obesity_df_2014.sort_values(by = \"Obesity_Prevalence _both\" , ascending =False).tail(5)\n",
    "Bottom_Obesity_df_2014"
   ]
  },
  {
   "cell_type": "code",
   "execution_count": null,
   "id": "18347e1e-9c12-4426-912f-cbaa62ca0509",
   "metadata": {},
   "outputs": [],
   "source": [
    "plt.figure(figsize=(10, 6))\n",
    "sns.barplot(x=Bottom_Obesity_df_2014.Country, y=Bottom_Obesity_df_2014['Obesity_Prevalence _both'],color='purple')\n",
    "plt.title('Bottom 5 Countries with  Lowest  Obesity Prevalence (2014)', fontsize=16)\n",
    "plt.xlabel('Country', fontsize=12)\n",
    "plt.ylabel('Obesity Prevalence (%)', fontsize=12)\n",
    "plt.show()"
   ]
  },
  {
   "cell_type": "code",
   "execution_count": null,
   "id": "9210fbd1-fad7-44e6-ae20-a7fc051145fd",
   "metadata": {},
   "outputs": [],
   "source": []
  },
  {
   "cell_type": "code",
   "execution_count": null,
   "id": "c62cb009-e9c3-468d-a343-bae3adc43a3d",
   "metadata": {},
   "outputs": [],
   "source": [
    "Top_Obesity_df_2015 = obesity_gdp_protein_lex_pop.loc[obesity_gdp_protein_lex_pop.Year == 2015]\n",
    "Top_Obesity_df_2015 = Top_Obesity_df_2015.sort_values(by = \"Obesity_Prevalence _both\" , ascending =False).head(5)\n",
    "Top_Obesity_df_2015 "
   ]
  },
  {
   "cell_type": "code",
   "execution_count": null,
   "id": "b960c536-06ec-40d1-a8d0-64ee8295ec52",
   "metadata": {},
   "outputs": [],
   "source": [
    "plt.figure(figsize=(10, 6))\n",
    "sns.barplot(x=Top_Obesity_df_2015.Country, y=Top_Obesity_df_2015['Obesity_Prevalence _both'],color='purple')\n",
    "plt.title('Top 5 Countries with Highest Obesity Prevalence (2015)', fontsize=16)\n",
    "plt.xlabel('Country', fontsize=12)\n",
    "plt.ylabel('Obesity Prevalence (%)', fontsize=12)\n",
    "plt.show()"
   ]
  },
  {
   "cell_type": "code",
   "execution_count": null,
   "id": "9bbdbcf1-ebd8-4d4e-82c4-7f5eac8ae851",
   "metadata": {},
   "outputs": [],
   "source": []
  },
  {
   "cell_type": "code",
   "execution_count": null,
   "id": "650a54cc-5a56-482a-bdb3-7b5ba984aa79",
   "metadata": {},
   "outputs": [],
   "source": [
    "Bottom_Obesity_df_2015 = obesity_gdp_protein_lex_pop.loc[obesity_gdp_protein_lex_pop.Year == 2015]\n",
    "Bottom_Obesity_df_2015  = Bottom_Obesity_df_2015.sort_values(by = \"Obesity_Prevalence _both\" , ascending =False).tail(5)\n",
    "Bottom_Obesity_df_2015 "
   ]
  },
  {
   "cell_type": "code",
   "execution_count": null,
   "id": "4db25c9c-9e12-4518-9ba8-4a842b2ee871",
   "metadata": {},
   "outputs": [],
   "source": [
    "plt.figure(figsize=(10, 6))\n",
    "sns.barplot(x=Bottom_Obesity_df_2015.Country, y=Bottom_Obesity_df_2015['Obesity_Prevalence _both'],color='purple')\n",
    "plt.title('Bottom 5 Countries with  Lowest  Obesity Prevalence (2015)', fontsize=16)\n",
    "plt.xlabel('Country', fontsize=12)\n",
    "plt.ylabel('Obesity Prevalence (%)', fontsize=12)\n",
    "plt.show()"
   ]
  },
  {
   "cell_type": "code",
   "execution_count": null,
   "id": "c6ca03c2-5a54-465a-b886-508b57e8f998",
   "metadata": {},
   "outputs": [],
   "source": []
  },
  {
   "cell_type": "code",
   "execution_count": null,
   "id": "c2867942-0580-4774-b445-4732ff92cae9",
   "metadata": {},
   "outputs": [],
   "source": [
    "Top_Obesity_df_2016 = obesity_gdp_protein_lex_pop.loc[obesity_gdp_protein_lex_pop.Year == 2016]\n",
    "Top_Obesity_df_2016 = Top_Obesity_df_2016.sort_values(by = \"Obesity_Prevalence _both\" , ascending =False).head(5)\n",
    "Top_Obesity_df_2016"
   ]
  },
  {
   "cell_type": "code",
   "execution_count": null,
   "id": "9ee9ac90-ef48-4fb5-a515-77a44e48687e",
   "metadata": {},
   "outputs": [],
   "source": [
    "plt.figure(figsize=(10, 6))\n",
    "sns.barplot(x=Top_Obesity_df_2016.Country, y=Top_Obesity_df_2016['Obesity_Prevalence _both'],color='purple')\n",
    "plt.title('Top 5 Countries with Highest Obesity Prevalence (2016)', fontsize=16)\n",
    "plt.xlabel('Country', fontsize=12)\n",
    "plt.ylabel('Obesity Prevalence (%)', fontsize=12)\n",
    "plt.show()"
   ]
  },
  {
   "cell_type": "code",
   "execution_count": null,
   "id": "6080f511-4fc0-4398-b61c-47517a027a90",
   "metadata": {},
   "outputs": [],
   "source": []
  },
  {
   "cell_type": "code",
   "execution_count": null,
   "id": "0fb9fd7a-e145-40dd-a4df-9b2843c20c39",
   "metadata": {},
   "outputs": [],
   "source": [
    "Bottom_Obesity_df_2016 = obesity_gdp_protein_lex_pop.loc[obesity_gdp_protein_lex_pop.Year == 2016]\n",
    "Bottom_Obesity_df_2016 = Bottom_Obesity_df_2016.sort_values(by = \"Obesity_Prevalence _both\" , ascending =False).tail(5)\n",
    "Bottom_Obesity_df_2016"
   ]
  },
  {
   "cell_type": "code",
   "execution_count": null,
   "id": "a6074fc9-5e20-4a75-8b6c-767de5bfc33f",
   "metadata": {},
   "outputs": [],
   "source": [
    "plt.figure(figsize=(10, 6))\n",
    "sns.barplot(x=Bottom_Obesity_df_2016.Country, y=Bottom_Obesity_df_2016['Obesity_Prevalence _both'],color='purple')\n",
    "plt.title('Bottom 5 Countries with Lowest Obesity Prevalence (2016)', fontsize=16)\n",
    "plt.xlabel('Country', fontsize=12)\n",
    "plt.ylabel('Obesity Prevalence (%)', fontsize=12)\n",
    "plt.show()"
   ]
  },
  {
   "cell_type": "code",
   "execution_count": null,
   "id": "ca303134-f337-4a14-bf59-231b035a5bbe",
   "metadata": {},
   "outputs": [],
   "source": []
  },
  {
   "cell_type": "markdown",
   "id": "3904cdbe-25d2-43ef-a85b-2a87b14953ab",
   "metadata": {},
   "source": [
    "## Physical activity Data"
   ]
  },
  {
   "cell_type": "code",
   "execution_count": null,
   "id": "cfa17372-96e9-4f16-a778-75850cfe2cd0",
   "metadata": {},
   "outputs": [],
   "source": [
    "countries_steps_df = pd.read_csv('../data/global_steps.csv')\n",
    "countries_steps_df= countries_steps_df.rename(columns={'Country Name':'Country','Mean Steps':'Mean_steps'})\n",
    "countries_steps_df"
   ]
  },
  {
   "cell_type": "code",
   "execution_count": null,
   "id": "8dfa4698-4be1-4e5c-80f6-5d2899a1be30",
   "metadata": {},
   "outputs": [],
   "source": [
    " Obesity_steps_countries_df = pd.merge(obesity_gdp_protein_lex_pop,countries_steps_df,\n",
    "                                  on='Country',how='inner')\n",
    " Obesity_steps_countries_df "
   ]
  },
  {
   "cell_type": "code",
   "execution_count": null,
   "id": "ffeb95c4-2eb3-4e34-ba8e-60e1c70f0bcf",
   "metadata": {},
   "outputs": [],
   "source": [
    " Obesity_steps_countries_df.columns"
   ]
  },
  {
   "cell_type": "code",
   "execution_count": null,
   "id": "1a850b37-c92d-424f-aee0-de5beb86856e",
   "metadata": {},
   "outputs": [],
   "source": []
  },
  {
   "cell_type": "markdown",
   "id": "2b9e6027-6e92-4097-828c-7c2b4d3dd528",
   "metadata": {},
   "source": [
    "## 10.How Does meat consumption and Average daily steps  affect  Obesity prevalence?"
   ]
  },
  {
   "cell_type": "markdown",
   "id": "83f652f7-d3ba-4161-b884-820e8de6aa46",
   "metadata": {},
   "source": [
    "## Steps vs Obesity Prevalence"
   ]
  },
  {
   "cell_type": "markdown",
   "id": "026f952e-7ec1-4032-9ff2-38216781b7eb",
   "metadata": {},
   "source": [
    " ## Is there a correlation between the Average daily steps and Obesity Prevalence across Countries?"
   ]
  },
  {
   "cell_type": "code",
   "execution_count": null,
   "id": "a483741f-fb02-402d-9f7a-6640b4e68368",
   "metadata": {},
   "outputs": [],
   "source": [
    "Obesity_steps_countries_df =Obesity_steps_countries_df.loc[Obesity_steps_countries_df['Year'] == 2014]\n",
    "Obesity_steps_countries_df"
   ]
  },
  {
   "cell_type": "markdown",
   "id": "9d0a75a7-7bc6-4c39-94c4-0a549c769f63",
   "metadata": {},
   "source": [
    " ## Correlation:  Obesity Prevalence VS Meat Consumption"
   ]
  },
  {
   "cell_type": "code",
   "execution_count": null,
   "id": "d51b0a88-2ef0-441e-89ae-114cbe0d0b14",
   "metadata": {},
   "outputs": [],
   "source": [
    "fig, ax = plt.subplots(figsize=(10, 6))\n",
    "sns.regplot(\n",
    "    x= Obesity_steps_countries_df[\"Mean_steps\"],\n",
    "    y= Obesity_steps_countries_df[\"Obesity_Prevalence _both\"],\n",
    "    color=\"Brown\",\n",
    "    line_kws={\"color\": \"black\"},\n",
    "    ci=None,\n",
    "    ax=ax\n",
    ")\n",
    "\n",
    "plt.xlabel('Average Daily Steps',fontsize=14, fontweight='bold')\n",
    "plt.ylabel('Obesity Prevalence (%)',fontsize=14, fontweight='bold')\n",
    "plt.gca().set_facecolor('lightyellow')\n",
    "plt.title('Obesity Prevalence vs. Average Daily Steps Across Countries For 2014' , fontsize=16, fontweight='bold')\n",
    "plt.show()"
   ]
  },
  {
   "cell_type": "code",
   "execution_count": null,
   "id": "9f4dcf62-5f17-40a2-8f46-6bee64585121",
   "metadata": {},
   "outputs": [],
   "source": [
    "correlation = Obesity_steps_countries_df['Mean_steps'].corr(Obesity_steps_countries_df['Obesity_Prevalence _both'])\n",
    "correlation"
   ]
  },
  {
   "cell_type": "markdown",
   "id": "a96f90e3-9f22-4ae4-8d14-a919053a225a",
   "metadata": {},
   "source": [
    "## Meat Consumption For all Countries"
   ]
  },
  {
   "cell_type": "code",
   "execution_count": null,
   "id": "a2e43709-b461-4b7d-ba21-b532de2c3301",
   "metadata": {},
   "outputs": [],
   "source": [
    "Meat_df = pd.read_csv('../data/meat_consumption_worldwide.csv')\n",
    "Meat_df = Meat_df.rename(columns={'Value' :'Meat_consumption'}) \n",
    "Meat_df"
   ]
  },
  {
   "cell_type": "code",
   "execution_count": null,
   "id": "3ac8d342-22f4-4ca8-ae2d-edb154998ccc",
   "metadata": {},
   "outputs": [],
   "source": [
    "Meat_df.info()"
   ]
  },
  {
   "cell_type": "code",
   "execution_count": null,
   "id": "0c66ee22-861f-48cc-97ac-c248c4be4440",
   "metadata": {},
   "outputs": [],
   "source": [
    "Meat_df.nunique()"
   ]
  },
  {
   "cell_type": "code",
   "execution_count": null,
   "id": "57a2ce26-c4f8-4507-8642-21d841a7d0c5",
   "metadata": {},
   "outputs": [],
   "source": [
    "meat = Meat_df.groupby('Code')[['Meat_consumption']].sum().reset_index().sort_values('Meat_consumption',ascending=False)\n",
    "fig = px.bar(meat,meat['Code'],meat['Meat_consumption'], hover_name='Code',hover_data=['Code'],color='Code',title='Countries Total Meat Consumption.')\n",
    "fig.show() "
   ]
  },
  {
   "cell_type": "code",
   "execution_count": null,
   "id": "5ccef81f-0729-4737-a93c-a2428bef3ebd",
   "metadata": {},
   "outputs": [],
   "source": [
    "Meat = Meat_df.loc[(Meat_df.Year >=1990) & (Meat_df.Year <=2016)]\n",
    "Meat"
   ]
  },
  {
   "cell_type": "code",
   "execution_count": null,
   "id": "fdaba5f6-0a9f-45b1-a540-b42afb15e664",
   "metadata": {},
   "outputs": [],
   "source": [
    "Obesity_countries_meat_df = pd.merge(obesity_gdp_protein_lex_pop,Meat,\n",
    "                             left_on=['Code','Year'],right_on=['Code','Year'], how='inner')\n",
    "Obesity_countries_meat_df"
   ]
  },
  {
   "cell_type": "code",
   "execution_count": null,
   "id": "c1db9437-5e8f-4845-b1ea-4b895f5abded",
   "metadata": {},
   "outputs": [],
   "source": [
    "Obesity_country_meat = Obesity_countries_meat_df.loc[Obesity_countries_meat_df.MEASURE == 'KG_CAP']\n",
    "Obesity_country_meat"
   ]
  },
  {
   "cell_type": "code",
   "execution_count": null,
   "id": "2ad35b2d-7ddd-4cdb-98f4-440b53ad7381",
   "metadata": {},
   "outputs": [],
   "source": [
    "Obesity_country_meat.Meat_consumption.describe()"
   ]
  },
  {
   "cell_type": "markdown",
   "id": "df8250f6-7ecd-4162-a822-af5f79aa4a73",
   "metadata": {},
   "source": [
    " ## Correlation:  Obesity Prevalence VS Meat Consumption"
   ]
  },
  {
   "cell_type": "code",
   "execution_count": null,
   "id": "c6bc422f-e731-4aaa-b18f-90c550c767c4",
   "metadata": {},
   "outputs": [],
   "source": [
    "fig, ax = plt.subplots(figsize=(10, 6))\n",
    "sns.regplot(\n",
    "    x= Obesity_country_meat[\"Meat_consumption\"],\n",
    "    y= Obesity_country_meat[\"Obesity_Prevalence _both\"],\n",
    "    color=\"Brown\",\n",
    "    line_kws={\"color\": \"black\"},\n",
    "    ci=None,\n",
    "    ax=ax\n",
    ")\n",
    "\n",
    "plt.xlabel('Meat Consumption',fontsize=14, fontweight='bold')\n",
    "plt.ylabel('Obesity Prevalence (%)',fontsize=14, fontweight='bold')\n",
    "plt.gca().set_facecolor('lightyellow')\n",
    "plt.title('Obesity Prevalence vs. Meat consumption Across Countries (1990-2016)', fontsize=16, fontweight='bold')\n",
    "plt.show()"
   ]
  },
  {
   "cell_type": "code",
   "execution_count": null,
   "id": "2dad5fc9-ce36-445d-b98b-fac2ab9bfbf7",
   "metadata": {},
   "outputs": [],
   "source": [
    "correlation = Obesity_country_meat['Meat_consumption'].corr(Obesity_country_meat['Obesity_Prevalence _both'])\n",
    "correlation"
   ]
  },
  {
   "cell_type": "code",
   "execution_count": null,
   "id": "bf04d29f-66ef-4a7b-aad2-a62b76da013c",
   "metadata": {},
   "outputs": [],
   "source": []
  },
  {
   "cell_type": "code",
   "execution_count": null,
   "id": "6d0486cd-9499-4625-b5dc-d6cf79c6fb17",
   "metadata": {},
   "outputs": [],
   "source": [
    "import plotly.graph_objects as go\n",
    "##plt.figure(figsize=(12,8))\n",
    "x = obesity_gdp_protein_lex_pop.groupby(\"Country\")[\"Obesity_Prevalence _both\"].mean().sort_values()\n",
    "data = dict(type = 'choropleth',\n",
    "            locations = x.index,\n",
    "            locationmode = 'country names',\n",
    "            colorscale= 'Portland',\n",
    "            text= x.index,\n",
    "            z=x,\n",
    "            colorbar = {'title':'Obesity Prevalence %', 'len':200,'lenmode':'pixels' })\n",
    "layout = dict(geo = {'scope':'world'},title=\"Obesity Prevalence % Around The world\")\n",
    "col_map = go.Figure(data = [data],layout = layout)\n",
    "col_map.show()"
   ]
  },
  {
   "cell_type": "code",
   "execution_count": null,
   "id": "9d9a798f-4ca0-4dd2-9fd5-d7d6af07b5c4",
   "metadata": {},
   "outputs": [],
   "source": []
  },
  {
   "cell_type": "code",
   "execution_count": null,
   "id": "a88b35e2-ee08-4cbc-973d-116da8bb8bb1",
   "metadata": {},
   "outputs": [],
   "source": [
    "obesity_gdp_protein_lex_pop.to_csv('obesity_gdp_protein_lex_pop.csv', index=False)"
   ]
  },
  {
   "cell_type": "markdown",
   "id": "18ccc37a-22c9-4d38-b4d5-56f488a3efca",
   "metadata": {},
   "source": [
    "## 8.Is there any correlation between obesity prevalence and factors such as Daily protein supply, Daily calories supply,Life expectancy?"
   ]
  },
  {
   "cell_type": "markdown",
   "id": "8b22f367-87f4-42a9-8683-cf9a310d6ccd",
   "metadata": {},
   "source": [
    "## Correlation: Daily protein supply per person VS Obesity Prevalence (1990-2016)"
   ]
  },
  {
   "cell_type": "code",
   "execution_count": null,
   "id": "5eacd773-7620-4468-abfe-7d1a0fe8fe5c",
   "metadata": {},
   "outputs": [],
   "source": [
    "fig, ax = plt.subplots(figsize=(10, 6))\n",
    "sns.regplot(\n",
    "    x=obesity_gdp_protein_lex_pop[\"Daily protein supply per person\"],\n",
    "    y=obesity_gdp_protein_lex_pop[\"Obesity_Prevalence _both\"],\n",
    "    color=\"Brown\",\n",
    "    line_kws={\"color\": \"black\"},\n",
    "    ci=None,\n",
    "    ax=ax\n",
    ")\n",
    "\n",
    "plt.xlabel('Daily Protein Supply per person', fontsize=14, fontweight='bold')\n",
    "plt.ylabel('Obesity Prevalence (%)', fontsize=16, fontweight='bold')\n",
    "plt.gca().set_facecolor('lightyellow')\n",
    "plt.title('Obesity Prevalence vs. Daily protein supply per person in (1990-2016)', fontsize=16, fontweight='bold')\n",
    "plt.show()"
   ]
  },
  {
   "cell_type": "code",
   "execution_count": null,
   "id": "d9a649ea-3a38-498d-b5bd-75e2048ce914",
   "metadata": {},
   "outputs": [],
   "source": [
    "corr = obesity_gdp_protein_lex_pop['Daily protein supply per person'].corr(obesity_gdp_protein_lex_pop['Obesity_Prevalence _both'])\n",
    "corr"
   ]
  },
  {
   "cell_type": "code",
   "execution_count": null,
   "id": "e6424c0f-d81b-402f-a265-964f1099def4",
   "metadata": {},
   "outputs": [],
   "source": []
  },
  {
   "cell_type": "markdown",
   "id": "5ffba549-7e3b-406a-80d8-e1bd884948cb",
   "metadata": {},
   "source": [
    "## Correlation: Obesity prevalence Vs Daily calorie supply per person"
   ]
  },
  {
   "cell_type": "code",
   "execution_count": null,
   "id": "8525f38f-b5fd-4cfe-9f8a-5922c301c1c5",
   "metadata": {},
   "outputs": [],
   "source": [
    "fig, ax = plt.subplots(figsize=(10, 6))\n",
    "sns.regplot(\n",
    "    x=obesity_gdp_protein_lex_pop[\"Daily calorie supply per person\"],\n",
    "    y=obesity_gdp_protein_lex_pop[\"Obesity_Prevalence _both\"],\n",
    "    color=\"Brown\",\n",
    "    line_kws={\"color\": \"black\"},\n",
    "    ci=None,\n",
    "    ax=ax\n",
    ")\n",
    "\n",
    "plt.xlabel('Daily calorie supply per person',fontsize=14, fontweight='bold')\n",
    "plt.ylabel('Obesity Prevalence (%)',fontsize=14, fontweight='bold')\n",
    "plt.gca().set_facecolor('lightyellow')\n",
    "plt.title('Obesity Prevalence Vs. Daily calorie supply per person in (1990-2016)',fontsize=16, fontweight='bold')\n",
    "plt.show()"
   ]
  },
  {
   "cell_type": "code",
   "execution_count": null,
   "id": "b615e2d7-c648-4bca-bdba-7de188601d6c",
   "metadata": {},
   "outputs": [],
   "source": [
    "corr = obesity_gdp_protein_lex_pop['Daily calorie supply per person'].corr(obesity_gdp_protein_lex_pop['Obesity_Prevalence _both'])\n",
    "corr"
   ]
  },
  {
   "cell_type": "code",
   "execution_count": null,
   "id": "09a36edf-4a66-4948-b194-bf9ab41b6971",
   "metadata": {},
   "outputs": [],
   "source": []
  },
  {
   "cell_type": "markdown",
   "id": "2b67408d-7099-4a38-88ab-d56a400b8c1e",
   "metadata": {},
   "source": [
    "## Correlation: Obesity prevalence Vs Life expectancy "
   ]
  },
  {
   "cell_type": "code",
   "execution_count": null,
   "id": "9a54c7be-3af5-40c0-b83e-c20af8dfb0be",
   "metadata": {},
   "outputs": [],
   "source": [
    "fig, ax = plt.subplots(figsize=(10, 6))\n",
    "sns.regplot(\n",
    "    x=obesity_gdp_protein_lex_pop[\"Life_expectancy \"],\n",
    "    y=obesity_gdp_protein_lex_pop[\"Obesity_Prevalence _both\"],\n",
    "    color=\"Brown\",\n",
    "    line_kws={\"color\": \"black\"},\n",
    "    ci=None,\n",
    "    ax=ax\n",
    ")\n",
    "\n",
    "plt.xlabel('Life Expectancy ',fontsize=14, fontweight='bold')\n",
    "plt.ylabel('Obesity Prevalence (%)',fontsize=14, fontweight='bold')\n",
    "plt.gca().set_facecolor('lightyellow')\n",
    "plt.title('Obesity Prevalence Vs. Life_expectancy in (1990-2015)',fontsize=16, fontweight='bold')\n",
    "plt.show()"
   ]
  },
  {
   "cell_type": "code",
   "execution_count": null,
   "id": "3d093107-244c-4ec5-9c55-b02850556e6a",
   "metadata": {},
   "outputs": [],
   "source": [
    "corr = obesity_gdp_protein_lex_pop['Life_expectancy '].corr(obesity_gdp_protein_lex_pop['Obesity_Prevalence _both'])\n",
    "corr"
   ]
  },
  {
   "cell_type": "markdown",
   "id": "9b140c84-de2e-49c8-bbb2-02da6c394a0f",
   "metadata": {},
   "source": [
    "## 9.How does obesity prevalence Correlate with various socioeconomic factors like GDP per capita, population?\n"
   ]
  },
  {
   "cell_type": "markdown",
   "id": "da196c3f-7f6c-499d-8653-c37e626a2329",
   "metadata": {},
   "source": [
    " ## Correlation Gdp per capita VS Obesity Prevalence (1990-2016)"
   ]
  },
  {
   "cell_type": "code",
   "execution_count": null,
   "id": "c6505413-02dd-4209-b55f-cce8596046d2",
   "metadata": {},
   "outputs": [],
   "source": [
    "fig, ax = plt.subplots(figsize=(10, 6))\n",
    "sns.regplot(\n",
    "    x=obesity_gdp_protein_lex_pop[\"Gdp_ per_capita\"],\n",
    "    y=obesity_gdp_protein_lex_pop[\"Obesity_Prevalence _both\"],\n",
    "    color=\"Brown\",\n",
    "    line_kws={\"color\": \"black\"},\n",
    "    ci=None,\n",
    "    ax=ax\n",
    ")\n",
    "plt.xlabel('GDP per Capita',fontsize=14, fontweight='bold')\n",
    "plt.ylabel('Obesity Prevalence (%)',fontsize=14, fontweight='bold')\n",
    "plt.gca().set_facecolor('lightyellow')\n",
    "plt.title('Obesity Prevalence Vs. GDP per Capita (1990-2016)',fontsize=16, fontweight='bold')\n",
    "plt.show()"
   ]
  },
  {
   "cell_type": "code",
   "execution_count": null,
   "id": "41a54706-dbd4-4c30-91f1-891dbf103d39",
   "metadata": {},
   "outputs": [],
   "source": [
    "corr = obesity_gdp_protein_lex_pop['Gdp_ per_capita'].corr(obesity_gdp_protein_lex_pop['Obesity_Prevalence _both'])\n",
    "corr"
   ]
  },
  {
   "cell_type": "markdown",
   "id": "8e48fc7a-bc4d-4d5c-a8e9-8532a0457972",
   "metadata": {},
   "source": [
    "## Correlation: Obesity prevalence Vs Population"
   ]
  },
  {
   "cell_type": "code",
   "execution_count": null,
   "id": "73e3e0c9-99ed-4baa-85da-70cf29961d6e",
   "metadata": {},
   "outputs": [],
   "source": [
    "obesity_gdp_protein_lex_pop['Population']= obesity_gdp_protein_lex_pop['Population'].astype(int)"
   ]
  },
  {
   "cell_type": "code",
   "execution_count": null,
   "id": "94cd3585-cfd3-445c-a801-76fa38bac069",
   "metadata": {},
   "outputs": [],
   "source": [
    "fig, ax = plt.subplots(figsize=(10, 6))\n",
    "sns.regplot(\n",
    "    x=obesity_gdp_protein_lex_pop[\"Population\"],\n",
    "    y=obesity_gdp_protein_lex_pop[\"Obesity_Prevalence _both\"],\n",
    "    color=\"Brown\",\n",
    "    line_kws={\"color\": \"black\"},\n",
    "    ci=None,\n",
    "    ax=ax\n",
    ")\n",
    "\n",
    "plt.xlabel('Population', fontsize=14, fontweight='bold')\n",
    "plt.ylabel('Obesity Prevalence (%)', fontsize=14, fontweight='bold')\n",
    "plt.gca().set_facecolor('lightyellow')\n",
    "plt.title('Obesity Prevalence Vs. Population in (1990-2016)', fontsize=16, fontweight='bold')\n",
    "plt.ticklabel_format(style='plain', axis='x')\n",
    "plt.show()"
   ]
  },
  {
   "cell_type": "code",
   "execution_count": null,
   "id": "1c91c270-54cf-490a-8b88-76802b016040",
   "metadata": {},
   "outputs": [],
   "source": [
    "corr = obesity_gdp_protein_lex_pop['Population'].corr(obesity_gdp_protein_lex_pop['Obesity_Prevalence _both'])\n",
    "corr"
   ]
  },
  {
   "cell_type": "code",
   "execution_count": null,
   "id": "f2c77f3a-7775-4dd9-947c-1121530a02bd",
   "metadata": {},
   "outputs": [],
   "source": []
  }
 ],
 "metadata": {
  "kernelspec": {
   "display_name": "Python 3 (ipykernel)",
   "language": "python",
   "name": "python3"
  },
  "language_info": {
   "codemirror_mode": {
    "name": "ipython",
    "version": 3
   },
   "file_extension": ".py",
   "mimetype": "text/x-python",
   "name": "python",
   "nbconvert_exporter": "python",
   "pygments_lexer": "ipython3",
   "version": "3.11.7"
  }
 },
 "nbformat": 4,
 "nbformat_minor": 5
}
